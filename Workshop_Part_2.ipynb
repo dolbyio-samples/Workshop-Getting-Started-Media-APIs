{
 "cells": [
  {
   "cell_type": "markdown",
   "id": "ea37d27b",
   "metadata": {
    "slideshow": {
     "slide_type": "slide"
    }
   },
   "source": [
    "# Dolby.io Developer Days Media APIs 101 - Getting Started\n",
    "### Notebook #2: Getting Started"
   ]
  },
  {
   "cell_type": "markdown",
   "id": "88b51985",
   "metadata": {
    "slideshow": {
     "slide_type": "fragment"
    }
   },
   "source": [
    "**Now that we have made our first API call, lets take a step back...**"
   ]
  },
  {
   "cell_type": "markdown",
   "id": "c24fd123",
   "metadata": {
    "slideshow": {
     "slide_type": "slide"
    }
   },
   "source": [
    "## **What is an API?**"
   ]
  },
  {
   "cell_type": "markdown",
   "id": "d0d37df1",
   "metadata": {
    "slideshow": {
     "slide_type": "fragment"
    }
   },
   "source": [
    "- An Application Programming Interface or API can be thought of as a tool in a builder's toolbox. \n",
    "- When using an API, we format and send data over a server, which is then interpreted and returned to the user. \n",
    "- By outsourcing various tasks or \"tools\" to a 3rd-party, users or builders can focus on the big picture."
   ]
  },
  {
   "cell_type": "markdown",
   "id": "51918558",
   "metadata": {
    "slideshow": {
     "slide_type": "slide"
    }
   },
   "source": [
    "## **<div> What About REST APIs?</div>**"
   ]
  },
  {
   "cell_type": "markdown",
   "id": "e449baa3",
   "metadata": {
    "slideshow": {
     "slide_type": "fragment"
    }
   },
   "source": [
    "- Much like tools in a toolbox, there are different types of APIs. \n",
    "- In the case of Dolby.io our APIs conform to the constraints of representational state transfer architecture or REST for short. \n",
    "- There is a lot to say about REST APIs, however, we'll keep it simple with a few key takeaways.\n",
    "\n",
    "![rest](./images/rest.png)"
   ]
  },
  {
   "cell_type": "markdown",
   "id": "e4065cf8",
   "metadata": {
    "slideshow": {
     "slide_type": "subslide"
    }
   },
   "source": [
    "**Structure**"
   ]
  },
  {
   "cell_type": "code",
   "execution_count": null,
   "id": "8c83d2c8",
   "metadata": {
    "slideshow": {
     "slide_type": "fragment"
    }
   },
   "outputs": [],
   "source": [
    "# URL used as the endpoint\n",
    "url = \"https://api.dolby.com/media/enhance\"\n",
    "\n",
    "# HTTP headers passed on, content type, api key, etc.\n",
    "headers = {\n",
    "  \"x-api-key\": \"api_key\",\n",
    "  \"Content-Type\": \"application/json\",\n",
    "  \"Accept\": \"application/json\"\n",
    "}\n",
    "\n",
    "# Body content of larger data\n",
    "body = {\n",
    "  \"input\" : \"dlb://in/example.mp4\",\n",
    "  \"output\" : \"dlb://out/example-enhanced.mp4\",\n",
    "}\n",
    "\n",
    "# URL parameters added on\n",
    "params = {\n",
    "  \"job_id\": job_id\n",
    "}\n",
    "\n",
    "# HTTP method, POST, GET, PUT, DELETE, etc.\n",
    "response = requests.post(url, json=body, headers=headers, params=params)"
   ]
  },
  {
   "cell_type": "markdown",
   "id": "7f427ede",
   "metadata": {},
   "source": [
    "For further reading, check out this article: https://restfulapi.net/"
   ]
  },
  {
   "cell_type": "markdown",
   "id": "44007849",
   "metadata": {
    "slideshow": {
     "slide_type": "slide"
    }
   },
   "source": [
    "## What can we use the Dolby.io Media APIs for?"
   ]
  },
  {
   "cell_type": "markdown",
   "id": "b09e5603",
   "metadata": {},
   "source": [
    "First, let's set our variables again."
   ]
  },
  {
   "cell_type": "code",
   "execution_count": null,
   "id": "84f83f37",
   "metadata": {},
   "outputs": [],
   "source": [
    "import IPython\n",
    "\n",
    "# Enter your Dolby.io Media API Key here.\n",
    "api_key = \"<YOUR_API_KEY_HERE>\"\n",
    "# Enter your name here to customize the output URL later.\n",
    "name = \"<YOUR_NAME_HERE>\""
   ]
  },
  {
   "cell_type": "markdown",
   "id": "b9fe1c6b",
   "metadata": {},
   "source": [
    "## Upload local files\n",
    "\n",
    "Let's say our files are not currently accessible on a public URL. While you can use your cloud storage providers to [presign URLs temporarily](https://docs.dolby.io/media-apis/docs/media-input-and-output), this doesn't solve the local file issue. In comes the Input APIs."
   ]
  },
  {
   "cell_type": "code",
   "execution_count": null,
   "id": "efc23969",
   "metadata": {},
   "outputs": [],
   "source": [
    "# Example Local File\n",
    "IPython.display.Audio(\"white_noise_demo.wav\")"
   ]
  },
  {
   "cell_type": "code",
   "execution_count": null,
   "id": "567b9e9f",
   "metadata": {},
   "outputs": [],
   "source": [
    "import requests\n",
    "\n",
    "# Set or replace these values\n",
    "\n",
    "file_path = \"white_noise_demo.wav\"\n",
    "input_url = f\"dlb://in/input-{name}.wav\" # Setting the input URL to have a different location based on your name!\n",
    "\n",
    "url = \"https://api.dolby.com/media/input\"\n",
    "headers = {\n",
    "    \"x-api-key\": api_key,\n",
    "    \"Content-Type\": \"application/json\",\n",
    "    \"Accept\": \"application/json\",\n",
    "}\n",
    "\n",
    "# Declare the dlb:// location we want to store the file in\n",
    "body = {\n",
    "    \"url\": input_url,\n",
    "}\n",
    "\n",
    "response = requests.post(url, json=body, headers=headers)\n",
    "response.raise_for_status()\n",
    "data = response.json()\n",
    "presigned_url = data[\"url\"]\n",
    "\n",
    "# Upload your media to the pre-signed url response\n",
    "\n",
    "print(\"Uploading {0} to {1}\".format(file_path, presigned_url))\n",
    "with open(file_path, \"rb\") as input_file:\n",
    "  requests.put(presigned_url, data=input_file)"
   ]
  },
  {
   "cell_type": "markdown",
   "id": "2b096c1b",
   "metadata": {},
   "source": [
    "And now the file can be accessed via our new `dlb://` url. This media is stored in an isolated location that only you can access with your API key. It is encrypted at rest and while in transit with https. Access to the production system is controlled and audited to prevent unauthorized use.\n",
    "> Note: this storage is TEMPORARY and will be removed within 24 - 48 hours."
   ]
  },
  {
   "cell_type": "markdown",
   "id": "1d505064",
   "metadata": {
    "slideshow": {
     "slide_type": "subslide"
    }
   },
   "source": [
    "### Enhance"
   ]
  },
  {
   "cell_type": "markdown",
   "id": "c6fb9570",
   "metadata": {
    "slideshow": {
     "slide_type": "subslide"
    }
   },
   "source": [
    "In part one, we called enhance without using any parameters. We can fine tune Enhance with a few different parameters to optimize for common audio issues including:\n",
    "\n",
    "- Noise reduction\n",
    "- Speech leveling and isolation\n",
    "- Loudness correction\n",
    "- Content tuning\n",
    "- Sibilance reduction\n",
    "- Plosive reduction\n",
    "- Dynamic equalization\n",
    "- Tone shaping\n",
    "- Hum reduction\n",
    "- Mouth click reduction\n",
    "\n",
    "**When defining the body**\n",
    "- Input location\n",
    "- Output location\n",
    "\n",
    "Input and output can be a cloud storage provider.\n",
    "\n",
    "- Content type\n",
    "    - conference\n",
    "    - interview\n",
    "    - lecture\n",
    "    - meeting\n",
    "    - mobile_phone\n",
    "    - music\n",
    "    - podcast\n",
    "    - studio\n",
    "    - voice_over or voice_recording\n",
    "    \n",
    "Content type can be left undefined. Enhance will work it out.\n",
    "\n",
    "- Audio parameters\n",
    "    - loudness\n",
    "    - dynamics\n",
    "    - noise\n",
    "    - filter\n",
    "    - speech\n",
    "    - music\n",
    "    \n",
    "Audio parameters can be left undefined, all objects will default to enabled.\n",
    "\n",
    "Audio parameters have sub-features, for example:\n",
    "- Speech\n",
    "    - isolation \n",
    "    - sibilance\n",
    "    - plosive\n",
    "    - click\n",
    "\n",
    "**Lots to choose from depending on your use case**\n",
    "\n",
    "**Let's see an example**"
   ]
  },
  {
   "cell_type": "code",
   "execution_count": null,
   "id": "cb7c1974",
   "metadata": {
    "slideshow": {
     "slide_type": "subslide"
    }
   },
   "outputs": [],
   "source": [
    "#URL changes\n",
    "url = \"https://api.dolby.com/media/enhance\"\n",
    "\n",
    "output_url = f\"dlb://out/output-{name}.wav\" # Setting the input URL to have a different location based on your name!\n",
    "\n",
    "#Header stays the same\n",
    "headers = {\n",
    "  \"x-api-key\": api_key,\n",
    "  \"Content-Type\": \"application/json\",\n",
    "  \"Accept\": \"application/json\"\n",
    "}\n",
    "\n",
    "body = {\n",
    "  \"input\" : input_url,\n",
    "  \"output\" : output_url,\n",
    "  \"content\" : {\n",
    "      \"type\": \"voice_over\"},\n",
    "  \"audio\" : {\n",
    "      \"noise\": {\"reduction\": {\n",
    "          \"amount\": \"max\"\n",
    "      }\n",
    "    },\n",
    "     \"filter\":{\"hum\": {\n",
    "         \"enable\": True\n",
    "     }\n",
    "    },\n",
    "      \"speech\": {\n",
    "            \"isolation\": {\n",
    "                \"enable\": True,\n",
    "                \"amount\": 70\n",
    "            },\n",
    "            \"sibilance\": {\"reduction\": {\n",
    "                    \"enable\": True,\n",
    "                    \"amount\": \"medium\"\n",
    "                }},\n",
    "            \"plosive\": {\"reduction\": {\n",
    "                    \"enable\": True,\n",
    "                    \"amount\": \"medium\"\n",
    "                }},\n",
    "            \"click\": {\"reduction\": {\n",
    "                    \"enable\": False,\n",
    "                    \"amount\": \"medium\"\n",
    "    }}}\n",
    "  }\n",
    "}\n",
    "\n",
    "response = requests.post(url, json=body, headers=headers)\n",
    "print(response.json())"
   ]
  },
  {
   "cell_type": "markdown",
   "id": "28bb2208",
   "metadata": {},
   "source": [
    "**Checking the status once again:**"
   ]
  },
  {
   "cell_type": "code",
   "execution_count": null,
   "id": "da18e956",
   "metadata": {
    "slideshow": {
     "slide_type": "fragment"
    }
   },
   "outputs": [],
   "source": [
    "params = {\n",
    "  \"job_id\": response.json()[\"job_id\"]\n",
    "}\n",
    "\n",
    "stat = requests.get(url, params=params, headers=headers)\n",
    "print(stat.json())"
   ]
  },
  {
   "cell_type": "markdown",
   "id": "26a0e293",
   "metadata": {
    "slideshow": {
     "slide_type": "subslide"
    }
   },
   "source": [
    "**Download the output**"
   ]
  },
  {
   "cell_type": "code",
   "execution_count": null,
   "id": "2e877328",
   "metadata": {
    "slideshow": {
     "slide_type": "fragment"
    }
   },
   "outputs": [],
   "source": [
    "url = \"https://api.dolby.com/media/output\"\n",
    "\n",
    "params = {\n",
    "    \"url\": output_url\n",
    "}\n",
    "\n",
    "import shutil #Package for file operations\n",
    "output_path = \"white_noise_demo-enhanced.wav\"\n",
    "\n",
    "with requests.get(url, params=params, headers=headers, stream=True) as response:\n",
    "    response.raw.decode_content = True\n",
    "    print(\"Downloading from {0} into {1}\".format(response.url, output_path))\n",
    "    with open(output_path, \"wb\") as output_file:\n",
    "        shutil.copyfileobj(response.raw, output_file)"
   ]
  },
  {
   "cell_type": "markdown",
   "id": "48cb0f7c",
   "metadata": {
    "slideshow": {
     "slide_type": "subslide"
    }
   },
   "source": [
    "**Lets give it a listen**"
   ]
  },
  {
   "cell_type": "code",
   "execution_count": null,
   "id": "5e5a3b64",
   "metadata": {
    "slideshow": {
     "slide_type": "fragment"
    }
   },
   "outputs": [],
   "source": [
    "IPython.display.Audio(\"white_noise_demo-enhanced.wav\")"
   ]
  },
  {
   "cell_type": "markdown",
   "id": "3bf4e3d0",
   "metadata": {
    "slideshow": {
     "slide_type": "subslide"
    }
   },
   "source": [
    "**Original**"
   ]
  },
  {
   "cell_type": "code",
   "execution_count": null,
   "id": "4fb57527",
   "metadata": {
    "slideshow": {
     "slide_type": "fragment"
    }
   },
   "outputs": [],
   "source": [
    "IPython.display.Audio(\"white_noise_demo.wav\")"
   ]
  },
  {
   "cell_type": "markdown",
   "id": "95cffee8",
   "metadata": {
    "slideshow": {
     "slide_type": "subslide"
    }
   },
   "source": [
    "### Questions?\n",
    "\n",
    "https://docs.dolby.io/media-apis/docs/enhance-api-guide"
   ]
  },
  {
   "cell_type": "markdown",
   "id": "5affa5e4",
   "metadata": {
    "slideshow": {
     "slide_type": "slide"
    }
   },
   "source": [
    "### Diagnose (*Beta*)"
   ]
  },
  {
   "cell_type": "markdown",
   "id": "aee8a36d",
   "metadata": {
    "slideshow": {
     "slide_type": "fragment"
    }
   },
   "source": [
    "- Provides General Media Info\n",
    "- Audio Quality \n",
    "- Noise Score\n",
    "- Clipping\n",
    "- Loudness\n",
    "- Content Classification\n",
    "\n",
    "Diagnose is **fast**, and doesn't require a file to be downloaded - the results are in the same API call as the status.\n",
    "\n",
    "**Let's look at some code**"
   ]
  },
  {
   "cell_type": "code",
   "execution_count": null,
   "id": "50489fe0",
   "metadata": {
    "slideshow": {
     "slide_type": "fragment"
    }
   },
   "outputs": [],
   "source": [
    "# Note the new URL endpoint\n",
    "url = \"https://api.dolby.com/media/diagnose\"\n",
    "\n",
    "headers = {\n",
    "    \"x-api-key\": api_key,\n",
    "    \"Content-Type\": \"application/json\",\n",
    "    \"Accept\": \"application/json\"\n",
    "}\n",
    "\n",
    "body = {\n",
    "    \"input\"  : input_url\n",
    "}\n",
    "\n",
    "response = requests.post(url, json=body, headers=headers)\n",
    "job_id  = response.json()[\"job_id\"]\n",
    "print(response.json())"
   ]
  },
  {
   "cell_type": "markdown",
   "id": "15a72408",
   "metadata": {},
   "source": [
    "**Checking Status and Getting Results**"
   ]
  },
  {
   "cell_type": "code",
   "execution_count": null,
   "id": "7f1dd7fc",
   "metadata": {
    "slideshow": {
     "slide_type": "subslide"
    }
   },
   "outputs": [],
   "source": [
    "url = \"https://api.dolby.com/media/diagnose\"\n",
    "headers = {\n",
    "    \"x-api-key\": api_key,\n",
    "    \"Content-Type\": \"application/json\",\n",
    "    \"Accept\": \"application/json\"\n",
    "}\n",
    "\n",
    "params = {\n",
    "    \"job_id\" : job_id,\n",
    "}\n",
    "\n",
    "stat = requests.get(url, params=params, headers=headers)\n",
    "print(stat.json())"
   ]
  },
  {
   "cell_type": "code",
   "execution_count": null,
   "id": "a61de760",
   "metadata": {
    "slideshow": {
     "slide_type": "subslide"
    }
   },
   "outputs": [],
   "source": [
    "stat.json()"
   ]
  },
  {
   "cell_type": "markdown",
   "id": "661b8bb7",
   "metadata": {
    "slideshow": {
     "slide_type": "subslide"
    }
   },
   "source": [
    "![flow](./images/flow.jpg)"
   ]
  },
  {
   "cell_type": "markdown",
   "id": "461ec006",
   "metadata": {
    "cell_style": "center",
    "slideshow": {
     "slide_type": "subslide"
    }
   },
   "source": [
    "### A quick note on cURL & our API reference"
   ]
  },
  {
   "cell_type": "markdown",
   "id": "42f92455",
   "metadata": {
    "cell_style": "center",
    "slideshow": {
     "slide_type": "fragment"
    }
   },
   "source": [
    "- Designed to transfer data using various network protocols\n",
    "- Works great with REST APIs like the Dolby.io Media APIs\n",
    "- Run through the command line"
   ]
  },
  {
   "cell_type": "markdown",
   "id": "f1be514a",
   "metadata": {
    "slideshow": {
     "slide_type": "fragment"
    }
   },
   "source": [
    "**Lets check out the Docs**\n",
    "- https://docs.dolby.io/media-apis/reference/media-diagnose-post\n",
    "- https://docs.dolby.io/media-apis/reference/media-diagnose-get\n",
    "\n",
    "Easiest to do in Postman Collection:\n",
    "https://www.postman.com/dolbyio/workspace/dolby-io-media-apis/overview"
   ]
  },
  {
   "cell_type": "code",
   "execution_count": null,
   "id": "54a5b40c",
   "metadata": {
    "slideshow": {
     "slide_type": "skip"
    }
   },
   "outputs": [],
   "source": [
    "#Shell POST Example\n",
    "curl --request POST \\\n",
    "     --url https://api.dolby.com/media/diagnose \\\n",
    "     --header 'Accept: application/json' \\\n",
    "     --header 'Content-Type: application/json' \\\n",
    "     --header 'x-api-key: YOUR_API_KEY' \\\n",
    "     --data '\n",
    "{\n",
    "     \"input\": \"string\",\n",
    "     \"content\": {\n",
    "          \"type\": \"podcast\",\n",
    "          \"silence\": {\n",
    "               \"threshold\": -60,\n",
    "               \"duration\": 3\n",
    "          }\n",
    "     }\n",
    "}\n",
    "'"
   ]
  },
  {
   "cell_type": "code",
   "execution_count": null,
   "id": "f9ca2020",
   "metadata": {
    "slideshow": {
     "slide_type": "skip"
    }
   },
   "outputs": [],
   "source": [
    "#Powershell POST Example\n",
    "$headers=@{}\n",
    "$headers.Add(\"Accept\", \"application/json\")\n",
    "$headers.Add(\"Content-Type\", \"application/json\")\n",
    "$headers.Add(\"x-api-key\", \"YOUR_API_KEY\")\n",
    "$response = Invoke-WebRequest -Uri 'https://api.dolby.com/media/diagnose' -Method POST -Headers $headers -ContentType 'application/json' -Body '{\"content\":{\"silence\":{\"threshold\":-60,\"duration\":3},\"type\":\"podcast\"},\"input\":\"dlb://in/example.wav\"}'\n",
    "\n",
    "#Then\n",
    "$response"
   ]
  },
  {
   "cell_type": "markdown",
   "id": "bafdd6f2",
   "metadata": {
    "slideshow": {
     "slide_type": "subslide"
    }
   },
   "source": [
    "### Questions?\n",
    "\n",
    "https://docs.dolby.io/media-apis/docs/diagnose-api-guide"
   ]
  },
  {
   "cell_type": "markdown",
   "id": "9e624764",
   "metadata": {
    "slideshow": {
     "slide_type": "subslide"
    }
   },
   "source": [
    "## What about other languages?"
   ]
  },
  {
   "cell_type": "markdown",
   "id": "c8551754",
   "metadata": {
    "slideshow": {
     "slide_type": "subslide"
    }
   },
   "source": [
    "**JavaScript**"
   ]
  },
  {
   "cell_type": "markdown",
   "id": "3b0f674e",
   "metadata": {
    "slideshow": {
     "slide_type": "fragment"
    }
   },
   "source": [
    "**Keep your API keys private**\n",
    "\n",
    "https://docs.dolby.io/media-apis/docs/authentication"
   ]
  },
  {
   "cell_type": "markdown",
   "id": "0087521d",
   "metadata": {
    "slideshow": {
     "slide_type": "subslide"
    }
   },
   "source": [
    "**Kotlin**"
   ]
  },
  {
   "cell_type": "markdown",
   "id": "ef1e28d0",
   "metadata": {
    "slideshow": {
     "slide_type": "fragment"
    }
   },
   "source": [
    "Check out our API Reference:\n",
    "https://docs.dolby.io/media-apis/reference/media-enhance-post"
   ]
  },
  {
   "cell_type": "markdown",
   "id": "79bbbd33",
   "metadata": {
    "slideshow": {
     "slide_type": "fragment"
    }
   },
   "source": [
    "### Transcoding (*Beta*)\n",
    "\n",
    "- Convert media of a particular file type to another\n",
    "- Transizing video media to different resolutions\n",
    "- Transrating audio media to different sample rates or bit rates\n",
    "\n",
    "The goal of Transcoding is to convert from one media format to another, from one media format to many variations, or in generating streaming media such as HLS or DASH.\n",
    "\n",
    "![formats](./images/formats.png)\n",
    "\n",
    "- Containers host video and audio compression codecs.\n",
    "- HLS: HTTP Live Streaming\n",
    "- DASH: Dynamic Adaptive Streaming over HTTP\n",
    "\n",
    "**Lets check out some code**"
   ]
  },
  {
   "cell_type": "code",
   "execution_count": null,
   "id": "5cd56514",
   "metadata": {
    "slideshow": {
     "slide_type": "fragment"
    }
   },
   "outputs": [],
   "source": [
    "url = \"https://api.dolby.com/media/transcode\"\n",
    "\n",
    "headers = {\n",
    "    \"x-api-key\": api_key,\n",
    "    \"Content-Type\": \"application/json\",\n",
    "    \"Accept\": \"application/json\",\n",
    "}\n"
   ]
  },
  {
   "cell_type": "code",
   "execution_count": null,
   "id": "c0077169",
   "metadata": {
    "slideshow": {
     "slide_type": "subslide"
    }
   },
   "outputs": [],
   "source": [
    "body = {\n",
    "    \"inputs\": [{ \"source\" : \"https://dolbyio.s3-us-west-1.amazonaws.com/public/shelby/indoors.original.mp4\"}],\n",
    "    \"outputs\": [\n",
    "        {\n",
    "            \"id\" : \"my_mp4\",\n",
    "            \"destination\" : \"dlb://out/airplane-transcoded.wav\",\n",
    "            \"kind\" : \"wav\"\n",
    "        }\n",
    "    ]\n",
    "}"
   ]
  },
  {
   "cell_type": "code",
   "execution_count": null,
   "id": "6de22fde",
   "metadata": {
    "slideshow": {
     "slide_type": "fragment"
    }
   },
   "outputs": [],
   "source": [
    "response = requests.post(url, json=body, headers=headers)\n",
    "print(response.json())"
   ]
  },
  {
   "cell_type": "code",
   "execution_count": null,
   "id": "8951519d",
   "metadata": {
    "slideshow": {
     "slide_type": "subslide"
    }
   },
   "outputs": [],
   "source": [
    "params = {\n",
    "    \"job_id\": response.json()[\"job_id\"]\n",
    "}\n",
    "stat = requests.get(url, params=params, headers=headers)\n",
    "print(stat.json())"
   ]
  },
  {
   "cell_type": "code",
   "execution_count": null,
   "id": "1820b1e5",
   "metadata": {
    "slideshow": {
     "slide_type": "subslide"
    }
   },
   "outputs": [],
   "source": [
    "url = \"https://api.dolby.com/media/output\"\n",
    "output_path = \"airplane-example.wav\"\n",
    "params = {\n",
    "    \"url\": \"dlb://out/airplane-transcoded.wav\",\n",
    "}\n",
    "\n",
    "with requests.get(url, params=params, headers=headers, stream=True) as response:\n",
    "    response.raise_for_status()\n",
    "    response.raw.decode_content = True\n",
    "    print(\"Downloading from {0} into {1}\".format(response.url, output_path))\n",
    "    with open(output_path, \"wb\") as output_file:\n",
    "        shutil.copyfileobj(response.raw, output_file)"
   ]
  },
  {
   "cell_type": "code",
   "execution_count": null,
   "id": "6de05561",
   "metadata": {
    "slideshow": {
     "slide_type": "subslide"
    }
   },
   "outputs": [],
   "source": [
    "!ls"
   ]
  },
  {
   "cell_type": "markdown",
   "id": "abeca1d5",
   "metadata": {
    "slideshow": {
     "slide_type": "subslide"
    }
   },
   "source": [
    "### Questions?\n",
    "\n",
    "https://docs.dolby.io/media-apis/docs/transcode-api-guide"
   ]
  },
  {
   "cell_type": "markdown",
   "id": "153f03bf",
   "metadata": {
    "slideshow": {
     "slide_type": "slide"
    }
   },
   "source": [
    "### More APIs?"
   ]
  },
  {
   "cell_type": "markdown",
   "id": "c13b895d",
   "metadata": {
    "slideshow": {
     "slide_type": "subslide"
    }
   },
   "source": [
    "**Analyze (*Beta*) and Analyze Speech (*Beta*)**"
   ]
  },
  {
   "cell_type": "markdown",
   "id": "eece33b1",
   "metadata": {
    "slideshow": {
     "slide_type": "fragment"
    }
   },
   "source": [
    "- Bigger version of Diagnose"
   ]
  },
  {
   "cell_type": "markdown",
   "id": "4c1e5c9d",
   "metadata": {
    "slideshow": {
     "slide_type": "fragment"
    }
   },
   "source": [
    "- Breaks out many segments of the audio for quality scores"
   ]
  },
  {
   "cell_type": "markdown",
   "id": "7aa964ab",
   "metadata": {
    "slideshow": {
     "slide_type": "fragment"
    }
   },
   "source": [
    "- Speaker diarization"
   ]
  },
  {
   "cell_type": "markdown",
   "id": "e481291e",
   "metadata": {
    "slideshow": {
     "slide_type": "fragment"
    }
   },
   "source": [
    "- Micro level audio defects and insights"
   ]
  },
  {
   "cell_type": "markdown",
   "id": "1db007b7",
   "metadata": {
    "slideshow": {
     "slide_type": "fragment"
    }
   },
   "source": [
    "**We'll explore Analyze and Analyze Speech in another workshop so stay tuned and let us know if you are interested.**\n",
    "\n",
    "Explore more here: https://docs.dolby.io/media-apis/docs/analyze-api-guide"
   ]
  },
  {
   "cell_type": "markdown",
   "id": "cd35720d",
   "metadata": {
    "slideshow": {
     "slide_type": "subslide"
    }
   },
   "source": [
    "**Music Mastering (*available at request, soon-to-be GA*)**"
   ]
  },
  {
   "cell_type": "markdown",
   "id": "9875168e",
   "metadata": {
    "slideshow": {
     "slide_type": "fragment"
    }
   },
   "source": [
    "- Like Enhance but more music specific"
   ]
  },
  {
   "cell_type": "markdown",
   "id": "93222a71",
   "metadata": {
    "slideshow": {
     "slide_type": "fragment"
    }
   },
   "source": [
    "- Pick between various music styles"
   ]
  },
  {
   "cell_type": "markdown",
   "id": "2cabad16",
   "metadata": {
    "slideshow": {
     "slide_type": "fragment"
    }
   },
   "source": [
    "- Professional-sounding audio masters that keep creative intent intact"
   ]
  },
  {
   "cell_type": "markdown",
   "id": "b33750c5",
   "metadata": {
    "slideshow": {
     "slide_type": "fragment"
    }
   },
   "source": [
    "**If you are interested in Music Mastering reach out to the team!**\n",
    "\n",
    "Explore more here: https://dolby.io/products/music-mastering/"
   ]
  },
  {
   "cell_type": "markdown",
   "id": "f46990f5",
   "metadata": {},
   "source": [
    "**Webhooks**"
   ]
  },
  {
   "cell_type": "markdown",
   "id": "d35a4813",
   "metadata": {
    "slideshow": {
     "slide_type": "slide"
    }
   },
   "source": [
    "**To Recap...**"
   ]
  },
  {
   "cell_type": "markdown",
   "id": "f1ece788",
   "metadata": {
    "slideshow": {
     "slide_type": "fragment"
    }
   },
   "source": [
    "- Enhance API\n",
    "    - Noise reduction\n",
    "    - Speaker isolation\n",
    "    - Explored how regions work"
   ]
  },
  {
   "cell_type": "markdown",
   "id": "a6114dad",
   "metadata": {
    "slideshow": {
     "slide_type": "subslide"
    }
   },
   "source": [
    "- Diagnose API\n",
    "    - Quality scores\n",
    "    - Learning more about your media\n",
    "    - Played with cURL and learnt about some other languages"
   ]
  },
  {
   "cell_type": "markdown",
   "id": "ee8b7da0",
   "metadata": {
    "slideshow": {
     "slide_type": "subslide"
    }
   },
   "source": [
    "- Transcoding API\n",
    "    - Media streams\n",
    "    - Converting to different codecs"
   ]
  },
  {
   "cell_type": "markdown",
   "id": "f121b2df",
   "metadata": {
    "slideshow": {
     "slide_type": "subslide"
    }
   },
   "source": [
    "- Breifly touched on Analyze and Music Mastering APIs"
   ]
  },
  {
   "cell_type": "markdown",
   "id": "42df539a",
   "metadata": {
    "cell_style": "split",
    "slideshow": {
     "slide_type": "subslide"
    }
   },
   "source": [
    "**Thank you for attending the Media API segment of Dolby.io Developer Days!**\n",
    "\n",
    "If you have questions feel free to reach out to me at:\n",
    "*@BradenRiggs1* or */in/briggs599*"
   ]
  },
  {
   "cell_type": "markdown",
   "id": "9142d623",
   "metadata": {
    "cell_style": "split",
    "slideshow": {
     "slide_type": "fragment"
    }
   },
   "source": [
    "Complete this survey to enter our raffle for some Dolby.io t-shirts: https://dolbyioprograms.typeform.com/to/S4H65blD\n",
    "\n",
    "**Your Feedback is Appreciated**"
   ]
  }
 ],
 "metadata": {
  "celltoolbar": "Slideshow",
  "kernelspec": {
   "display_name": "Python 3 (ipykernel)",
   "language": "python",
   "name": "python3"
  },
  "language_info": {
   "codemirror_mode": {
    "name": "ipython",
    "version": 3
   },
   "file_extension": ".py",
   "mimetype": "text/x-python",
   "name": "python",
   "nbconvert_exporter": "python",
   "pygments_lexer": "ipython3",
   "version": "3.8.10"
  },
  "rise": {
   "chalkboard": {
    "color": [
     "rgb(250, 0, 0)",
     "rgb(250, 0, 0)"
    ]
   },
   "enable_chalkboard": true
  },
  "varInspector": {
   "cols": {
    "lenName": 16,
    "lenType": 16,
    "lenVar": 40
   },
   "kernels_config": {
    "python": {
     "delete_cmd_postfix": "",
     "delete_cmd_prefix": "del ",
     "library": "var_list.py",
     "varRefreshCmd": "print(var_dic_list())"
    },
    "r": {
     "delete_cmd_postfix": ") ",
     "delete_cmd_prefix": "rm(",
     "library": "var_list.r",
     "varRefreshCmd": "cat(var_dic_list()) "
    }
   },
   "types_to_exclude": [
    "module",
    "function",
    "builtin_function_or_method",
    "instance",
    "_Feature"
   ],
   "window_display": false
  }
 },
 "nbformat": 4,
 "nbformat_minor": 5
}
