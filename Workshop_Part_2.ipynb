{
 "cells": [
  {
   "cell_type": "markdown",
   "id": "ea37d27b",
   "metadata": {
    "slideshow": {
     "slide_type": "slide"
    }
   },
   "source": [
    "# Dolby.io  Media APIs 101 - Getting Started\n",
    "### Getting Started"
   ]
  },
  {
   "cell_type": "markdown",
   "id": "7ef66399",
   "metadata": {},
   "source": [
    "**Agenda**\n",
    "\n",
    "1. The Media API workflow and your Dolby.io account ~ 10 minutes\n",
    "2. The Enhance API ~ 10 minutes\n",
    "3. The Diagnose API ~ 5 minutes\n",
    "4. The Transcode API ~ 10 Minutes\n",
    "5. The Analyze API ~ 2 minutes\n",
    "6. The Music Mastering API ~ 2 minutes\n",
    "7. Webhooks ~ 5 minutes\n",
    "8. Questions ~ 10 minutes"
   ]
  },
  {
   "cell_type": "markdown",
   "id": "4dfad68f",
   "metadata": {},
   "source": [
    "### The Media API Workflow"
   ]
  },
  {
   "cell_type": "markdown",
   "id": "0c8c0c63",
   "metadata": {},
   "source": [
    "**What are media APIs**\n",
    "\n",
    "\n",
    "- The Dolby.io Media APIs adhere to REpresentational State Transfer or REST architecture style. This means they can be interacted with in an language or framework, be that Kotlin, Python or C. \n",
    "- The Media APIs bring programmatic solutions to challenges faced in the Media space...\n",
    "- - Poor audio quality\n",
    "- - Converting between audio and video codecs \n",
    "- - Mastering music\n",
    "- - Deriving insight and data from audio\n",
    "- - And More..."
   ]
  },
  {
   "cell_type": "markdown",
   "id": "96b7d934",
   "metadata": {},
   "source": [
    "![Workflow](images/workflow.PNG)"
   ]
  },
  {
   "cell_type": "markdown",
   "id": "7e723a19",
   "metadata": {},
   "source": [
    "### API Keys & Dolby.io\n",
    "\n",
    "https://dashboard.dolby.io/signin"
   ]
  },
  {
   "cell_type": "markdown",
   "id": "44007849",
   "metadata": {
    "slideshow": {
     "slide_type": "slide"
    }
   },
   "source": [
    "## What can we use the Dolby.io Media APIs for?"
   ]
  },
  {
   "cell_type": "markdown",
   "id": "b09e5603",
   "metadata": {},
   "source": [
    "First, let's set our variables."
   ]
  },
  {
   "cell_type": "code",
   "execution_count": 2,
   "id": "84f83f37",
   "metadata": {},
   "outputs": [
    {
     "name": "stdout",
     "output_type": "stream",
     "text": [
      "API Key and Name set!\n"
     ]
    }
   ],
   "source": [
    "import IPython\n",
    "\n",
    "# Enter your Dolby.io Media API Key here.\n",
    "api_key = \"vWsARnDLxteBWgIgOaV7eHW5eHsomkCr\"\n",
    "# Enter your name here to customize the output URL later.\n",
    "name = \"Braden\"\n",
    "\n",
    "print(\"API Key and Name set!\")"
   ]
  },
  {
   "cell_type": "markdown",
   "id": "b9fe1c6b",
   "metadata": {},
   "source": [
    "## Upload local files\n",
    "\n",
    "Let's say our files are not currently accessible on a public URL. While you can use your cloud storage providers to [presign URLs temporarily](https://docs.dolby.io/media-apis/docs/media-input-and-output), this doesn't solve the local file issue. In comes the Input APIs.\n",
    "\n",
    "We will begin with a file already stored locally: `white_noise_demo.wav` as seen in the sidebar."
   ]
  },
  {
   "cell_type": "code",
   "execution_count": 1,
   "id": "efc23969",
   "metadata": {},
   "outputs": [
    {
     "ename": "NameError",
     "evalue": "name 'IPython' is not defined",
     "output_type": "error",
     "traceback": [
      "\u001b[1;31m---------------------------------------------------------------------------\u001b[0m",
      "\u001b[1;31mNameError\u001b[0m                                 Traceback (most recent call last)",
      "\u001b[1;32m<ipython-input-1-84a9d92b7f76>\u001b[0m in \u001b[0;36m<module>\u001b[1;34m\u001b[0m\n\u001b[0;32m      1\u001b[0m \u001b[1;31m# Example Local File\u001b[0m\u001b[1;33m\u001b[0m\u001b[1;33m\u001b[0m\u001b[1;33m\u001b[0m\u001b[0m\n\u001b[1;32m----> 2\u001b[1;33m \u001b[0mIPython\u001b[0m\u001b[1;33m.\u001b[0m\u001b[0mdisplay\u001b[0m\u001b[1;33m.\u001b[0m\u001b[0mAudio\u001b[0m\u001b[1;33m(\u001b[0m\u001b[1;34m\"white_noise_demo.wav\"\u001b[0m\u001b[1;33m)\u001b[0m\u001b[1;33m\u001b[0m\u001b[1;33m\u001b[0m\u001b[0m\n\u001b[0m",
      "\u001b[1;31mNameError\u001b[0m: name 'IPython' is not defined"
     ]
    }
   ],
   "source": [
    "# Example Local File\n",
    "IPython.display.Audio(\"white_noise_demo.wav\")"
   ]
  },
  {
   "cell_type": "markdown",
   "id": "abde97b6",
   "metadata": {},
   "source": [
    "We can take this file and upload it with another API call!"
   ]
  },
  {
   "cell_type": "code",
   "execution_count": 3,
   "id": "567b9e9f",
   "metadata": {},
   "outputs": [
    {
     "ename": "HTTPError",
     "evalue": "401 Client Error: Unauthorized for url: https://api.dolby.com/media/input",
     "output_type": "error",
     "traceback": [
      "\u001b[1;31m---------------------------------------------------------------------------\u001b[0m",
      "\u001b[1;31mHTTPError\u001b[0m                                 Traceback (most recent call last)",
      "\u001b[1;32m<ipython-input-3-8e725afcd8fa>\u001b[0m in \u001b[0;36m<module>\u001b[1;34m\u001b[0m\n\u001b[0;32m     19\u001b[0m \u001b[1;33m\u001b[0m\u001b[0m\n\u001b[0;32m     20\u001b[0m \u001b[0mresponse\u001b[0m \u001b[1;33m=\u001b[0m \u001b[0mrequests\u001b[0m\u001b[1;33m.\u001b[0m\u001b[0mpost\u001b[0m\u001b[1;33m(\u001b[0m\u001b[0murl\u001b[0m\u001b[1;33m,\u001b[0m \u001b[0mjson\u001b[0m\u001b[1;33m=\u001b[0m\u001b[0mbody\u001b[0m\u001b[1;33m,\u001b[0m \u001b[0mheaders\u001b[0m\u001b[1;33m=\u001b[0m\u001b[0mheaders\u001b[0m\u001b[1;33m)\u001b[0m\u001b[1;33m\u001b[0m\u001b[1;33m\u001b[0m\u001b[0m\n\u001b[1;32m---> 21\u001b[1;33m \u001b[0mresponse\u001b[0m\u001b[1;33m.\u001b[0m\u001b[0mraise_for_status\u001b[0m\u001b[1;33m(\u001b[0m\u001b[1;33m)\u001b[0m\u001b[1;33m\u001b[0m\u001b[1;33m\u001b[0m\u001b[0m\n\u001b[0m\u001b[0;32m     22\u001b[0m \u001b[0mdata\u001b[0m \u001b[1;33m=\u001b[0m \u001b[0mresponse\u001b[0m\u001b[1;33m.\u001b[0m\u001b[0mjson\u001b[0m\u001b[1;33m(\u001b[0m\u001b[1;33m)\u001b[0m\u001b[1;33m\u001b[0m\u001b[1;33m\u001b[0m\u001b[0m\n\u001b[0;32m     23\u001b[0m \u001b[0mpresigned_url\u001b[0m \u001b[1;33m=\u001b[0m \u001b[0mdata\u001b[0m\u001b[1;33m[\u001b[0m\u001b[1;34m\"url\"\u001b[0m\u001b[1;33m]\u001b[0m\u001b[1;33m\u001b[0m\u001b[1;33m\u001b[0m\u001b[0m\n",
      "\u001b[1;32mc:\\Users\\brigg\\Anaconda3\\lib\\site-packages\\requests\\models.py\u001b[0m in \u001b[0;36mraise_for_status\u001b[1;34m(self)\u001b[0m\n\u001b[0;32m    958\u001b[0m \u001b[1;33m\u001b[0m\u001b[0m\n\u001b[0;32m    959\u001b[0m         \u001b[1;32mif\u001b[0m \u001b[0mhttp_error_msg\u001b[0m\u001b[1;33m:\u001b[0m\u001b[1;33m\u001b[0m\u001b[1;33m\u001b[0m\u001b[0m\n\u001b[1;32m--> 960\u001b[1;33m             \u001b[1;32mraise\u001b[0m \u001b[0mHTTPError\u001b[0m\u001b[1;33m(\u001b[0m\u001b[0mhttp_error_msg\u001b[0m\u001b[1;33m,\u001b[0m \u001b[0mresponse\u001b[0m\u001b[1;33m=\u001b[0m\u001b[0mself\u001b[0m\u001b[1;33m)\u001b[0m\u001b[1;33m\u001b[0m\u001b[1;33m\u001b[0m\u001b[0m\n\u001b[0m\u001b[0;32m    961\u001b[0m \u001b[1;33m\u001b[0m\u001b[0m\n\u001b[0;32m    962\u001b[0m     \u001b[1;32mdef\u001b[0m \u001b[0mclose\u001b[0m\u001b[1;33m(\u001b[0m\u001b[0mself\u001b[0m\u001b[1;33m)\u001b[0m\u001b[1;33m:\u001b[0m\u001b[1;33m\u001b[0m\u001b[1;33m\u001b[0m\u001b[0m\n",
      "\u001b[1;31mHTTPError\u001b[0m: 401 Client Error: Unauthorized for url: https://api.dolby.com/media/input"
     ]
    }
   ],
   "source": [
    "import requests\n",
    "\n",
    "# Set or replace these values\n",
    "\n",
    "file_path = \"white_noise_demo.wav\"\n",
    "input_url = f\"dlb://in/input-{name}.wav\" # Setting the input URL to have a different location based on your name!\n",
    "\n",
    "url = \"https://api.dolby.com/media/input\"\n",
    "headers = {\n",
    "    \"x-api-key\": api_key,\n",
    "    \"Content-Type\": \"application/json\",\n",
    "    \"Accept\": \"application/json\",\n",
    "}\n",
    "\n",
    "# Declare the dlb:// location we want to store the file in\n",
    "body = {\n",
    "    \"url\": input_url,\n",
    "}\n",
    "\n",
    "response = requests.post(url, json=body, headers=headers)\n",
    "response.raise_for_status()\n",
    "data = response.json()\n",
    "presigned_url = data[\"url\"]\n",
    "\n",
    "# Upload your media to the pre-signed url response\n",
    "\n",
    "print(\"Uploading {0} to {1}\".format(file_path, presigned_url))\n",
    "with open(file_path, \"rb\") as input_file:\n",
    "  requests.put(presigned_url, data=input_file)"
   ]
  },
  {
   "cell_type": "markdown",
   "id": "2b096c1b",
   "metadata": {},
   "source": [
    "And now the file can be accessed via our new `dlb://` url. This media is stored in an isolated location that only you can access with your API key. It is encrypted at rest and while in transit with https. Access to the production system is controlled and audited to prevent unauthorized use.\n",
    "> Note: this storage is TEMPORARY and will be removed within 24 - 48 hours.\n",
    "\n",
    "For Output, also note that you can save the files directly to your cloud provider of choice when done processing, no need to download every complete job! Read more at the documentation for your Cloud Storage Provider of choice here: https://docs.dolby.io/media-apis/docs/media-input-and-output"
   ]
  },
  {
   "cell_type": "markdown",
   "id": "1d505064",
   "metadata": {
    "slideshow": {
     "slide_type": "subslide"
    }
   },
   "source": [
    "## Enhance"
   ]
  },
  {
   "cell_type": "markdown",
   "id": "c6fb9570",
   "metadata": {
    "slideshow": {
     "slide_type": "subslide"
    }
   },
   "source": [
    "In part one, we called enhance without using any parameters. We can fine tune Enhance with a few different parameters to optimize for common audio issues including:\n",
    "\n",
    "- Noise reduction\n",
    "- Speech leveling and isolation\n",
    "- Loudness correction\n",
    "- Content tuning\n",
    "- Sibilance reduction\n",
    "- Plosive reduction\n",
    "- Dynamic equalization\n",
    "- Tone shaping\n",
    "- Hum reduction\n",
    "- Mouth click reduction\n",
    "\n",
    "**When defining the body**\n",
    "- Input location\n",
    "- Output location\n",
    "\n",
    "Input and output can be a cloud storage provider.\n",
    "\n",
    "- Content type\n",
    "    - conference\n",
    "    - interview\n",
    "    - lecture\n",
    "    - meeting\n",
    "    - mobile_phone\n",
    "    - music\n",
    "    - podcast\n",
    "    - studio\n",
    "    - voice_over or voice_recording\n",
    "    \n",
    "Content type can be left undefined. Enhance will work it out.\n",
    "\n",
    "- Audio parameters\n",
    "    - loudness\n",
    "    - dynamics\n",
    "    - noise\n",
    "    - filter\n",
    "    - speech\n",
    "    - music\n",
    "    \n",
    "Audio parameters can be left undefined, all objects will default to enabled.\n",
    "\n",
    "Audio parameters have sub-features, for example:\n",
    "- Speech\n",
    "    - isolation \n",
    "    - sibilance (harsh consonant sound like \"s\", \"sh\", \"x\", \"ch\", \"t\", and \"th\")\n",
    "    - plosive (pops from \"p\" and \"b\")\n",
    "    - click\n",
    "\n",
    "See more: https://docs.dolby.io/media-apis/docs/speech\n",
    "\n",
    "**Lots to choose from depending on your use case**\n",
    "\n",
    "**Let's see an example**"
   ]
  },
  {
   "cell_type": "code",
   "execution_count": null,
   "id": "cb7c1974",
   "metadata": {
    "slideshow": {
     "slide_type": "subslide"
    }
   },
   "outputs": [],
   "source": [
    "#URL changes\n",
    "url = \"https://api.dolby.com/media/enhance\"\n",
    "\n",
    "output_url = f\"dlb://out/output-{name}.wav\" # Setting the input URL to have a different location based on your name!\n",
    "\n",
    "#Header stays the same\n",
    "headers = {\n",
    "  \"x-api-key\": api_key,\n",
    "  \"Content-Type\": \"application/json\",\n",
    "  \"Accept\": \"application/json\"\n",
    "}\n",
    "\n",
    "body = {\n",
    "  \"input\" : input_url,\n",
    "  \"output\" : output_url,\n",
    "  \"content\" : {\n",
    "      \"type\": \"voice_over\"},\n",
    "  \"audio\" : {\n",
    "    \"noise\": {\n",
    "      \"reduction\": {\n",
    "        \"amount\": \"max\"\n",
    "      }\n",
    "    },\n",
    "    \"filter\":{\n",
    "      \"hum\": {\n",
    "        \"enable\": True\n",
    "      }\n",
    "    },\n",
    "    \"speech\": {\n",
    "      \"isolation\": {\n",
    "          \"enable\": True,\n",
    "          \"amount\": 70\n",
    "      },\n",
    "      \"sibilance\": {\n",
    "        \"reduction\": {\n",
    "              \"enable\": True,\n",
    "              \"amount\": \"medium\"\n",
    "        }\n",
    "      },\n",
    "      \"plosive\": {\n",
    "        \"reduction\": {\n",
    "              \"enable\": True,\n",
    "              \"amount\": \"medium\"\n",
    "        }\n",
    "      },\n",
    "      \"click\": {\n",
    "        \"reduction\": {\n",
    "              \"enable\": False,\n",
    "              \"amount\": \"medium\"\n",
    "        }\n",
    "      }\n",
    "    }\n",
    "  }\n",
    "}\n",
    "\n",
    "response = requests.post(url, json=body, headers=headers)\n",
    "print(response.json())"
   ]
  },
  {
   "cell_type": "markdown",
   "id": "28bb2208",
   "metadata": {},
   "source": [
    "**Checking the status once again:**"
   ]
  },
  {
   "cell_type": "code",
   "execution_count": null,
   "id": "da18e956",
   "metadata": {
    "slideshow": {
     "slide_type": "fragment"
    }
   },
   "outputs": [],
   "source": [
    "params = {\n",
    "  \"job_id\": response.json()[\"job_id\"]\n",
    "}\n",
    "\n",
    "stat = requests.get(url, params=params, headers=headers)\n",
    "print(stat.json())"
   ]
  },
  {
   "cell_type": "markdown",
   "id": "26a0e293",
   "metadata": {
    "slideshow": {
     "slide_type": "subslide"
    }
   },
   "source": [
    "**Download the output**"
   ]
  },
  {
   "cell_type": "code",
   "execution_count": null,
   "id": "2e877328",
   "metadata": {
    "slideshow": {
     "slide_type": "fragment"
    }
   },
   "outputs": [],
   "source": [
    "url = \"https://api.dolby.com/media/output\"\n",
    "\n",
    "params = {\n",
    "    \"url\": output_url\n",
    "}\n",
    "\n",
    "import shutil #Package for file operations\n",
    "output_path = \"white_noise_demo-enhanced.wav\"\n",
    "\n",
    "with requests.get(url, params=params, headers=headers, stream=True) as response:\n",
    "    response.raw.decode_content = True\n",
    "    print(\"Downloading from {0} into {1}\".format(response.url, output_path))\n",
    "    with open(output_path, \"wb\") as output_file:\n",
    "        shutil.copyfileobj(response.raw, output_file)"
   ]
  },
  {
   "cell_type": "markdown",
   "id": "48cb0f7c",
   "metadata": {
    "slideshow": {
     "slide_type": "subslide"
    }
   },
   "source": [
    "`white_noise_demo-enhanced.wav` will appear in the sidebar when complete.\n",
    "\n",
    "**Lets give it a listen**"
   ]
  },
  {
   "cell_type": "code",
   "execution_count": null,
   "id": "5e5a3b64",
   "metadata": {
    "slideshow": {
     "slide_type": "fragment"
    }
   },
   "outputs": [],
   "source": [
    "IPython.display.Audio(\"white_noise_demo-enhanced.wav\")"
   ]
  },
  {
   "cell_type": "markdown",
   "id": "3bf4e3d0",
   "metadata": {
    "slideshow": {
     "slide_type": "subslide"
    }
   },
   "source": [
    "**Original**"
   ]
  },
  {
   "cell_type": "code",
   "execution_count": null,
   "id": "4fb57527",
   "metadata": {
    "slideshow": {
     "slide_type": "fragment"
    }
   },
   "outputs": [],
   "source": [
    "IPython.display.Audio(\"white_noise_demo.wav\")"
   ]
  },
  {
   "cell_type": "markdown",
   "id": "95cffee8",
   "metadata": {
    "slideshow": {
     "slide_type": "subslide"
    }
   },
   "source": [
    "### Questions?\n",
    "\n",
    "https://docs.dolby.io/media-apis/docs/enhance-api-guide"
   ]
  },
  {
   "cell_type": "markdown",
   "id": "5affa5e4",
   "metadata": {
    "slideshow": {
     "slide_type": "slide"
    }
   },
   "source": [
    "## Diagnose (*Beta*)"
   ]
  },
  {
   "cell_type": "markdown",
   "id": "aee8a36d",
   "metadata": {
    "slideshow": {
     "slide_type": "fragment"
    }
   },
   "source": [
    "- Provides General Media Info\n",
    "- Audio Quality \n",
    "- Noise Score\n",
    "- Clipping\n",
    "- Loudness\n",
    "- Content Classification\n",
    "\n",
    "Diagnose is **fast**, and doesn't require a file to be downloaded - the results are in the same API call as the status.\n",
    "\n",
    "Read more about audio quality here: https://docs.dolby.io/media-apis/docs/audio-quality\n",
    "\n",
    "**Let's look at some code**"
   ]
  },
  {
   "cell_type": "code",
   "execution_count": null,
   "id": "50489fe0",
   "metadata": {
    "slideshow": {
     "slide_type": "fragment"
    }
   },
   "outputs": [],
   "source": [
    "# Note the new URL endpoint\n",
    "url = \"https://api.dolby.com/media/diagnose\"\n",
    "\n",
    "headers = {\n",
    "    \"x-api-key\": api_key,\n",
    "    \"Content-Type\": \"application/json\",\n",
    "    \"Accept\": \"application/json\"\n",
    "}\n",
    "\n",
    "body = {\n",
    "    \"input\"  : input_url\n",
    "}\n",
    "\n",
    "response = requests.post(url, json=body, headers=headers)\n",
    "job_id  = response.json()[\"job_id\"]\n",
    "print(response.json())"
   ]
  },
  {
   "cell_type": "markdown",
   "id": "15a72408",
   "metadata": {},
   "source": [
    "**Checking Status and Getting Results**"
   ]
  },
  {
   "cell_type": "code",
   "execution_count": null,
   "id": "7f1dd7fc",
   "metadata": {
    "slideshow": {
     "slide_type": "subslide"
    }
   },
   "outputs": [],
   "source": [
    "url = \"https://api.dolby.com/media/diagnose\"\n",
    "headers = {\n",
    "    \"x-api-key\": api_key,\n",
    "    \"Content-Type\": \"application/json\",\n",
    "    \"Accept\": \"application/json\"\n",
    "}\n",
    "\n",
    "params = {\n",
    "    \"job_id\" : job_id,\n",
    "}\n",
    "\n",
    "stat = requests.get(url, params=params, headers=headers)\n",
    "IPython.display.JSON(stat.json()) # Display interactive JSON element instead of just printing"
   ]
  },
  {
   "cell_type": "markdown",
   "id": "b01ffd0f",
   "metadata": {},
   "source": [
    "You should see a response with collapsible objects like the following:\n",
    "\n",
    "![diagnose output](./images/diagnose_output.png)"
   ]
  },
  {
   "cell_type": "markdown",
   "id": "661b8bb7",
   "metadata": {
    "slideshow": {
     "slide_type": "subslide"
    }
   },
   "source": [
    "An example workflow of how these APIs would be used in a real world setting might be the following:\n",
    "\n",
    "![flow](./images/flow.jpg)"
   ]
  },
  {
   "cell_type": "markdown",
   "id": "bafdd6f2",
   "metadata": {
    "slideshow": {
     "slide_type": "subslide"
    }
   },
   "source": [
    "### Questions?\n",
    "\n",
    "https://docs.dolby.io/media-apis/docs/diagnose-api-guide"
   ]
  },
  {
   "cell_type": "markdown",
   "id": "461ec006",
   "metadata": {
    "cell_style": "center",
    "slideshow": {
     "slide_type": "subslide"
    }
   },
   "source": [
    "### A quick note on other languages & our API reference"
   ]
  },
  {
   "cell_type": "markdown",
   "id": "42f92455",
   "metadata": {
    "cell_style": "center",
    "slideshow": {
     "slide_type": "fragment"
    }
   },
   "source": [
    "- cURL Designed to transfer data using various network protocols\n",
    "- Works great with REST APIs like the Dolby.io Media APIs\n",
    "- Run through the terminal or PowerShell"
   ]
  },
  {
   "cell_type": "markdown",
   "id": "f1be514a",
   "metadata": {
    "slideshow": {
     "slide_type": "fragment"
    }
   },
   "source": [
    "**Examples for many languages in the docs:** (Shell, JavaScript, Ruby, PHP, etc.)\n",
    "- https://docs.dolby.io/media-apis/reference/media-diagnose-post\n",
    "- https://docs.dolby.io/media-apis/reference/media-diagnose-get\n",
    "\n",
    "Easiest to do in Postman Collection:\n",
    "https://www.postman.com/dolbyio/workspace/dolby-io-media-apis/overview"
   ]
  },
  {
   "cell_type": "markdown",
   "id": "3b0f674e",
   "metadata": {
    "slideshow": {
     "slide_type": "fragment"
    }
   },
   "source": [
    "> **Keep your API keys private**\n",
    "\n",
    "https://docs.dolby.io/media-apis/docs/authentication\n",
    "\n",
    "Have the option to use OAuth2 Tokens instead if you want it to expire naturally. Rotate your API keys often, as you have an API key for each application on your Dashboard! "
   ]
  },
  {
   "cell_type": "markdown",
   "id": "79bbbd33",
   "metadata": {
    "slideshow": {
     "slide_type": "fragment"
    }
   },
   "source": [
    "## Transcoding\n",
    "\n",
    "- Convert media of a particular file type to another\n",
    "- Transizing video media to different resolutions\n",
    "- Transrating audio media to different sample rates or bit rates\n",
    "\n",
    "The goal of Transcoding is to convert from one media format to another, from one media format to many variations, or in generating streaming media such as HLS or DASH.\n",
    "\n",
    "![formats](./images/formats.png)\n",
    "\n",
    "- Containers host video and audio compression codecs.\n",
    "- HLS: HTTP Live Streaming\n",
    "- DASH: Dynamic Adaptive Streaming over HTTP\n",
    "\n",
    "**Lets check out some code**!\n",
    "\n",
    "Making the Transcode request to convert a mp4 video to a wav audio file:"
   ]
  },
  {
   "cell_type": "code",
   "execution_count": null,
   "id": "5cd56514",
   "metadata": {
    "slideshow": {
     "slide_type": "fragment"
    }
   },
   "outputs": [],
   "source": [
    "url = \"https://api.dolby.com/media/transcode\"\n",
    "\n",
    "headers = {\n",
    "    \"x-api-key\": api_key,\n",
    "    \"Content-Type\": \"application/json\",\n",
    "    \"Accept\": \"application/json\",\n",
    "}\n",
    "\n",
    "# Convert the file to a WAV file\n",
    "body = {\n",
    "    \"inputs\": [{ \"source\" : \"https://dolbyio.s3-us-west-1.amazonaws.com/public/shelby/indoors.original.mp4\"}],\n",
    "    \"outputs\": [\n",
    "        {\n",
    "            \"id\" : \"my_mp4\",\n",
    "            \"destination\" : \"dlb://out/airplane-transcoded.wav\",\n",
    "            \"kind\" : \"wav\"\n",
    "        }\n",
    "    ]\n",
    "}\n",
    "\n",
    "response = requests.post(url, json=body, headers=headers)\n",
    "print(response.json())"
   ]
  },
  {
   "cell_type": "markdown",
   "id": "b009049c",
   "metadata": {},
   "source": [
    "**Checking the status:**"
   ]
  },
  {
   "cell_type": "code",
   "execution_count": null,
   "id": "8951519d",
   "metadata": {
    "slideshow": {
     "slide_type": "subslide"
    }
   },
   "outputs": [],
   "source": [
    "params = {\n",
    "    \"job_id\": response.json()[\"job_id\"]\n",
    "}\n",
    "stat = requests.get(url, params=params, headers=headers)\n",
    "print(stat.json())"
   ]
  },
  {
   "cell_type": "markdown",
   "id": "48e3e005",
   "metadata": {},
   "source": [
    "**Downloading the output:**"
   ]
  },
  {
   "cell_type": "code",
   "execution_count": null,
   "id": "1820b1e5",
   "metadata": {
    "slideshow": {
     "slide_type": "subslide"
    }
   },
   "outputs": [],
   "source": [
    "url = \"https://api.dolby.com/media/output\"\n",
    "output_path = \"airplane-example.wav\"\n",
    "params = {\n",
    "    \"url\": \"dlb://out/airplane-transcoded.wav\",\n",
    "}\n",
    "\n",
    "with requests.get(url, params=params, headers=headers, stream=True) as response:\n",
    "    response.raise_for_status()\n",
    "    response.raw.decode_content = True\n",
    "    print(\"Downloading from {0} into {1}\".format(response.url, output_path))\n",
    "    with open(output_path, \"wb\") as output_file:\n",
    "        shutil.copyfileobj(response.raw, output_file)"
   ]
  },
  {
   "cell_type": "markdown",
   "id": "8095d3d1",
   "metadata": {},
   "source": [
    "You should now see `airplane-example.wav` in the side bar!"
   ]
  },
  {
   "cell_type": "code",
   "execution_count": null,
   "id": "57fa82a7",
   "metadata": {},
   "outputs": [],
   "source": [
    "IPython.display.Audio(\"airplane-example.wav\")"
   ]
  },
  {
   "cell_type": "markdown",
   "id": "abeca1d5",
   "metadata": {
    "slideshow": {
     "slide_type": "subslide"
    }
   },
   "source": [
    "### Questions?\n",
    "\n",
    "https://docs.dolby.io/media-apis/docs/transcode-api-guide"
   ]
  },
  {
   "cell_type": "markdown",
   "id": "153f03bf",
   "metadata": {
    "slideshow": {
     "slide_type": "slide"
    }
   },
   "source": [
    "## Additional APIs"
   ]
  },
  {
   "cell_type": "markdown",
   "id": "c13b895d",
   "metadata": {
    "slideshow": {
     "slide_type": "subslide"
    }
   },
   "source": [
    "### Analyze (*Beta*) and Analyze Speech (*Beta*)"
   ]
  },
  {
   "cell_type": "markdown",
   "id": "eece33b1",
   "metadata": {
    "slideshow": {
     "slide_type": "fragment"
    }
   },
   "source": [
    "- Bigger version of Diagnose"
   ]
  },
  {
   "cell_type": "markdown",
   "id": "4c1e5c9d",
   "metadata": {
    "slideshow": {
     "slide_type": "fragment"
    }
   },
   "source": [
    "- Breaks out many segments of the audio for quality scores"
   ]
  },
  {
   "cell_type": "markdown",
   "id": "7aa964ab",
   "metadata": {
    "slideshow": {
     "slide_type": "fragment"
    }
   },
   "source": [
    "- Speaker diarization"
   ]
  },
  {
   "cell_type": "markdown",
   "id": "e481291e",
   "metadata": {
    "slideshow": {
     "slide_type": "fragment"
    }
   },
   "source": [
    "- Micro level audio defects and insights"
   ]
  },
  {
   "cell_type": "markdown",
   "id": "1db007b7",
   "metadata": {
    "slideshow": {
     "slide_type": "fragment"
    }
   },
   "source": [
    "**We'll explore Analyze and Analyze Speech in another workshop so stay tuned and let us know if you are interested.**\n",
    "\n",
    "Explore more here: https://docs.dolby.io/media-apis/docs/analyze-api-guide"
   ]
  },
  {
   "cell_type": "markdown",
   "id": "cd35720d",
   "metadata": {
    "slideshow": {
     "slide_type": "subslide"
    }
   },
   "source": [
    "### Music Mastering\n",
    "\n",
    "![mastering](./images/mastering.png)"
   ]
  },
  {
   "cell_type": "markdown",
   "id": "9875168e",
   "metadata": {
    "slideshow": {
     "slide_type": "fragment"
    }
   },
   "source": [
    "- Like Enhance but more music specific"
   ]
  },
  {
   "cell_type": "markdown",
   "id": "93222a71",
   "metadata": {
    "slideshow": {
     "slide_type": "fragment"
    }
   },
   "source": [
    "- Pick between various music styles"
   ]
  },
  {
   "cell_type": "markdown",
   "id": "2cabad16",
   "metadata": {
    "slideshow": {
     "slide_type": "fragment"
    }
   },
   "source": [
    "- Professional-sounding audio masters that keep creative intent intact"
   ]
  },
  {
   "cell_type": "markdown",
   "id": "b33750c5",
   "metadata": {
    "slideshow": {
     "slide_type": "fragment"
    }
   },
   "source": [
    "**If you are interested in Music Mastering reach out to the team!**\n",
    "\n",
    "Explore more here: https://dolby.io/products/music-mastering/\n",
    "And check out our Music Mastering partners:\n",
    "\n",
    "* https://community.soundcloud.com/mastering-on-soundcloud\n",
    "* https://unitedmasters.zendesk.com/hc/en-us/articles/4404029984019-What-is-Dolby-Mastering-"
   ]
  },
  {
   "cell_type": "markdown",
   "id": "f46990f5",
   "metadata": {},
   "source": [
    "**Webhooks and Callbacks**\n",
    "\n",
    "![zapier](./images/zapier.png)\n",
    "\n",
    "If you prefer not to manually poll for a job to be completed (if processing a large file for example), you can use webhooks and callbacks instead!\n",
    "\n",
    "To do this, you will need to have a webhook URL with a service that is actively listening for this, such as a Web Service (Express, Django, Rails, etc.), or an integration (Zapier, Slack Apps, etc.). This will trigger a `POST` request, which can be used to automate the next steps of your process.\n",
    "\n",
    "To read more, see: https://docs.dolby.io/media-apis/docs/webhooks-and-callbacks"
   ]
  },
  {
   "cell_type": "markdown",
   "id": "d35a4813",
   "metadata": {
    "slideshow": {
     "slide_type": "slide"
    }
   },
   "source": [
    "### **To Recap...**"
   ]
  },
  {
   "cell_type": "markdown",
   "id": "f1ece788",
   "metadata": {
    "slideshow": {
     "slide_type": "fragment"
    }
   },
   "source": [
    "- Enhance API\n",
    "    - Noise reduction\n",
    "    - Speaker isolation"
   ]
  },
  {
   "cell_type": "markdown",
   "id": "a6114dad",
   "metadata": {
    "slideshow": {
     "slide_type": "subslide"
    }
   },
   "source": [
    "- Diagnose API\n",
    "    - Quality scores\n",
    "    - Learning more about your media"
   ]
  },
  {
   "cell_type": "markdown",
   "id": "ee8b7da0",
   "metadata": {
    "slideshow": {
     "slide_type": "subslide"
    }
   },
   "source": [
    "- Transcoding API\n",
    "    - Media streams\n",
    "    - Converting to different codecs"
   ]
  },
  {
   "cell_type": "markdown",
   "id": "f121b2df",
   "metadata": {
    "slideshow": {
     "slide_type": "subslide"
    }
   },
   "source": [
    "- Briefly touched on Analyze and Music Mastering APIs\n",
    "- Discussed Authentication best practices\n",
    "- Mentioned Webhooks and Callbacks as automation next steps\n",
    "\n",
    "If you want to go back and try this again later, here is the GitHub repository: https://github.com/dolbyio-samples/workshop-media-apis-getting-started"
   ]
  }
 ],
 "metadata": {
  "celltoolbar": "Slideshow",
  "interpreter": {
   "hash": "72db251cd97bb6a797c00aac9ae9c0a833aa376e1954607481ba2facd160c86e"
  },
  "kernelspec": {
   "display_name": "Python 3.8.8 ('base')",
   "language": "python",
   "name": "python3"
  },
  "language_info": {
   "codemirror_mode": {
    "name": "ipython",
    "version": 3
   },
   "file_extension": ".py",
   "mimetype": "text/x-python",
   "name": "python",
   "nbconvert_exporter": "python",
   "pygments_lexer": "ipython3",
   "version": "3.8.8"
  },
  "rise": {
   "chalkboard": {
    "color": [
     "rgb(250, 0, 0)",
     "rgb(250, 0, 0)"
    ]
   },
   "enable_chalkboard": true
  },
  "varInspector": {
   "cols": {
    "lenName": 16,
    "lenType": 16,
    "lenVar": 40
   },
   "kernels_config": {
    "python": {
     "delete_cmd_postfix": "",
     "delete_cmd_prefix": "del ",
     "library": "var_list.py",
     "varRefreshCmd": "print(var_dic_list())"
    },
    "r": {
     "delete_cmd_postfix": ") ",
     "delete_cmd_prefix": "rm(",
     "library": "var_list.r",
     "varRefreshCmd": "cat(var_dic_list()) "
    }
   },
   "types_to_exclude": [
    "module",
    "function",
    "builtin_function_or_method",
    "instance",
    "_Feature"
   ],
   "window_display": false
  }
 },
 "nbformat": 4,
 "nbformat_minor": 5
}
