{
 "cells": [
  {
   "cell_type": "markdown",
   "id": "ea37d27b",
   "metadata": {
    "slideshow": {
     "slide_type": "slide"
    }
   },
   "source": [
    "# Dolby.io Developer Days Media APIs 101 - Getting Started\n",
    "### Notebook #2: Getting Started"
   ]
  },
  {
   "cell_type": "markdown",
   "id": "88b51985",
   "metadata": {
    "slideshow": {
     "slide_type": "fragment"
    }
   },
   "source": [
    "**Now that we have made our first API call, lets take a step back...**"
   ]
  },
  {
   "cell_type": "markdown",
   "id": "c24fd123",
   "metadata": {
    "slideshow": {
     "slide_type": "slide"
    }
   },
   "source": [
    "## **<div > So What is an API?</div>**"
   ]
  },
  {
   "cell_type": "markdown",
   "id": "d0d37df1",
   "metadata": {
    "slideshow": {
     "slide_type": "fragment"
    }
   },
   "source": [
    "- An Application Programming Interface or API can be thought of as a tool in a builder's toolbox. \n",
    "- When using an API, we format and send data over a server, which is then interpreted and returned to the user. \n",
    "- By outsourcing various tasks or \"tools\" to a 3rd-party, users or builders can focus on the big picture."
   ]
  },
  {
   "cell_type": "markdown",
   "id": "51918558",
   "metadata": {
    "slideshow": {
     "slide_type": "slide"
    }
   },
   "source": [
    "## **<div> What About REST APIs?</div>**"
   ]
  },
  {
   "cell_type": "markdown",
   "id": "e449baa3",
   "metadata": {
    "slideshow": {
     "slide_type": "fragment"
    }
   },
   "source": [
    "- Much like tools in a toolbox, there are different types of APIs. \n",
    "- In the case of Dolby.io our APIs conform to the constraints of representational state transfer architecture or REST for short. \n",
    "- There is a lot to say about REST APIs, however, we'll keep it simple with a few key takeaways."
   ]
  },
  {
   "cell_type": "markdown",
   "id": "997d429d",
   "metadata": {
    "slideshow": {
     "slide_type": "subslide"
    }
   },
   "source": [
    "<center><img src=\"images/rest.PNG\" alt=\"drawing\" width=\"500\" /></center>"
   ]
  },
  {
   "cell_type": "markdown",
   "id": "e4065cf8",
   "metadata": {
    "slideshow": {
     "slide_type": "subslide"
    }
   },
   "source": [
    "**Structure**"
   ]
  },
  {
   "cell_type": "code",
   "execution_count": null,
   "id": "8c83d2c8",
   "metadata": {
    "slideshow": {
     "slide_type": "fragment"
    }
   },
   "outputs": [],
   "source": [
    "url = \"https://api.dolby.com/media/enhance\""
   ]
  },
  {
   "cell_type": "code",
   "execution_count": null,
   "id": "b2998780",
   "metadata": {
    "slideshow": {
     "slide_type": "fragment"
    }
   },
   "outputs": [],
   "source": [
    "headers = {\n",
    "  \"x-api-key\": \"api_key\",\n",
    "  \"Content-Type\": \"application/json\",\n",
    "  \"Accept\": \"application/json\"\n",
    "}"
   ]
  },
  {
   "cell_type": "code",
   "execution_count": null,
   "id": "c972beee",
   "metadata": {
    "slideshow": {
     "slide_type": "fragment"
    }
   },
   "outputs": [],
   "source": [
    "body = {\n",
    "  \"input\" : \"dlb://in/example.mp4\",\n",
    "  \"output\" : \"dlb://out/example-enhanced.mp4\",\n",
    "}"
   ]
  },
  {
   "cell_type": "markdown",
   "id": "44007849",
   "metadata": {
    "slideshow": {
     "slide_type": "slide"
    }
   },
   "source": [
    "## So What can we use these APIs for?"
   ]
  },
  {
   "cell_type": "markdown",
   "id": "b7ff03e9",
   "metadata": {
    "slideshow": {
     "slide_type": "fragment"
    }
   },
   "source": [
    "Well, we've seen **Enhance**"
   ]
  },
  {
   "cell_type": "markdown",
   "id": "1d505064",
   "metadata": {
    "slideshow": {
     "slide_type": "subslide"
    }
   },
   "source": [
    "### Enhance"
   ]
  },
  {
   "cell_type": "markdown",
   "id": "42126619",
   "metadata": {
    "slideshow": {
     "slide_type": "fragment"
    }
   },
   "source": [
    "- Noise reduction"
   ]
  },
  {
   "cell_type": "markdown",
   "id": "f76baf37",
   "metadata": {
    "slideshow": {
     "slide_type": "fragment"
    }
   },
   "source": [
    "- Speech leveling and isolation"
   ]
  },
  {
   "cell_type": "markdown",
   "id": "127df726",
   "metadata": {
    "slideshow": {
     "slide_type": "fragment"
    }
   },
   "source": [
    "- Loudness correction"
   ]
  },
  {
   "cell_type": "markdown",
   "id": "c6fb9570",
   "metadata": {
    "slideshow": {
     "slide_type": "subslide"
    }
   },
   "source": [
    "- Content tuning\n",
    "- Sibilance reduction\n",
    "- Plosive reduction\n",
    "- Dynamic equalization\n",
    "- Tone shaping\n",
    "- Hum reduction\n",
    "- Mouth click reduction"
   ]
  },
  {
   "cell_type": "markdown",
   "id": "061c9464",
   "metadata": {
    "slideshow": {
     "slide_type": "subslide"
    }
   },
   "source": [
    "**Lets see some code**"
   ]
  },
  {
   "cell_type": "code",
   "execution_count": null,
   "id": "d49f3c85",
   "metadata": {
    "slideshow": {
     "slide_type": "fragment"
    }
   },
   "outputs": [],
   "source": [
    "import IPython\n",
    "api_key = \"YOUR_API_KEY\""
   ]
  },
  {
   "cell_type": "markdown",
   "id": "8bc13b39",
   "metadata": {
    "slideshow": {
     "slide_type": "subslide"
    }
   },
   "source": [
    "**Upload to Dolby.io Cloud**"
   ]
  },
  {
   "cell_type": "code",
   "execution_count": null,
   "id": "c480667d",
   "metadata": {
    "slideshow": {
     "slide_type": "fragment"
    }
   },
   "outputs": [],
   "source": [
    "import requests #Python package for interacting with REST APIs\n",
    "file_path = \"white_noise_demo.wav\"\n",
    "\n",
    "url = \"https://api.dolby.com/media/input\"\n",
    "headers = {\n",
    "    \"x-api-key\": api_key, #API key hidden, keep it private\n",
    "    \"Content-Type\": \"application/json\",\n",
    "    \"Accept\": \"application/json\"}\n",
    "\n",
    "body = {\"url\": \"dlb://in/example.wav\"}\n",
    "\n",
    "response = requests.post(url, json=body, headers=headers)\n",
    "data = response.json()\n",
    "presigned_url = data[\"url\"]\n",
    "\n",
    "with open(file_path, \"rb\") as input_file:\n",
    "    requests.put(presigned_url, data=input_file)"
   ]
  },
  {
   "cell_type": "code",
   "execution_count": null,
   "id": "10193e78",
   "metadata": {
    "slideshow": {
     "slide_type": "subslide"
    }
   },
   "outputs": [],
   "source": [
    "print(\"Uploading {0} to {1}\".format(file_path, presigned_url))"
   ]
  },
  {
   "cell_type": "code",
   "execution_count": null,
   "id": "8d22f928",
   "metadata": {
    "slideshow": {
     "slide_type": "subslide"
    }
   },
   "outputs": [],
   "source": [
    "IPython.display.Audio(\"white_noise_demo.wav\")"
   ]
  },
  {
   "cell_type": "code",
   "execution_count": null,
   "id": "3dfbc3ef",
   "metadata": {
    "slideshow": {
     "slide_type": "subslide"
    }
   },
   "outputs": [],
   "source": [
    "#URL changes\n",
    "url = \"https://api.dolby.com/media/enhance\"\n",
    "\n",
    "#Header stays the same\n",
    "headers = {\n",
    "  \"x-api-key\": api_key,\n",
    "  \"Content-Type\": \"application/json\",\n",
    "  \"Accept\": \"application/json\"\n",
    "}"
   ]
  },
  {
   "cell_type": "markdown",
   "id": "a9dfba86",
   "metadata": {
    "slideshow": {
     "slide_type": "subslide"
    }
   },
   "source": [
    "**When defining the body**\n",
    "- Input location\n",
    "- Output location\n",
    "\n",
    "Input and output can be a cloud storage provider."
   ]
  },
  {
   "cell_type": "markdown",
   "id": "457285d4",
   "metadata": {
    "slideshow": {
     "slide_type": "subslide"
    }
   },
   "source": [
    "- Content type\n",
    "    - conference\n",
    "    - interview\n",
    "    - lecture\n",
    "    - meeting\n",
    "    - mobile_phone\n",
    "    - music\n",
    "    - podcast\n",
    "    - studio\n",
    "    - voice_over or voice_recording\n",
    "    \n",
    "Content type can be left undefined. Enhance will work it out."
   ]
  },
  {
   "cell_type": "markdown",
   "id": "475c8043",
   "metadata": {
    "slideshow": {
     "slide_type": "subslide"
    }
   },
   "source": [
    "- Audio parameters\n",
    "    - loudness\n",
    "    - dynamics\n",
    "    - noise\n",
    "    - filter\n",
    "    - speech\n",
    "    - music\n",
    "    \n",
    "Audio parameters can be left undefined, all objects will default to enabled."
   ]
  },
  {
   "cell_type": "markdown",
   "id": "d9758a25",
   "metadata": {
    "slideshow": {
     "slide_type": "subslide"
    }
   },
   "source": [
    "Audio parameters have sub-features, for example:\n",
    "- Speech\n",
    "    - isolation \n",
    "    - sibilance\n",
    "    - plosive\n",
    "    - click"
   ]
  },
  {
   "cell_type": "markdown",
   "id": "c71a40ec",
   "metadata": {
    "slideshow": {
     "slide_type": "subslide"
    }
   },
   "source": [
    "**Lots to choose from depending on your use case**\n",
    "\n",
    "<center> <img src=\"images/choices.jpg\" alt=\"drawing\" width=\"800\"/> </center>"
   ]
  },
  {
   "cell_type": "markdown",
   "id": "09f07547",
   "metadata": {
    "slideshow": {
     "slide_type": "subslide"
    }
   },
   "source": [
    "**Let's see an example**"
   ]
  },
  {
   "cell_type": "code",
   "execution_count": null,
   "id": "0e284e5f",
   "metadata": {
    "slideshow": {
     "slide_type": "fragment"
    }
   },
   "outputs": [],
   "source": [
    "body = {\n",
    "  \"input\" : \"dlb://in/example.wav\",\n",
    "  \"output\" : \"dlb://out/example-enhanced.wav\"\n",
    "}"
   ]
  },
  {
   "cell_type": "code",
   "execution_count": null,
   "id": "031c2519",
   "metadata": {
    "slideshow": {
     "slide_type": "subslide"
    }
   },
   "outputs": [],
   "source": [
    "body = {\n",
    "  \"input\" : \"dlb://in/example.wav\",\n",
    "  \"output\" : \"dlb://out/example-enhanced.wav\",\n",
    "  \"content\" : {\n",
    "      \"type\": \"voice_over\"\n",
    "  }\n",
    "}"
   ]
  },
  {
   "cell_type": "code",
   "execution_count": null,
   "id": "cb7c1974",
   "metadata": {
    "slideshow": {
     "slide_type": "subslide"
    }
   },
   "outputs": [],
   "source": [
    "body = {\n",
    "  \"input\" : \"dlb://in/example.wav\",\n",
    "  \"output\" : \"dlb://out/example-enhanced.wav\",\n",
    "  \"content\" : {\n",
    "      \"type\": \"voice_over\"},\n",
    "  \"audio\" : {\n",
    "      \"noise\": {\"reduction\": {\n",
    "          \"amount\": \"max\"\n",
    "      }\n",
    "    },\n",
    "     \"filter\":{\"hum\": {\n",
    "         \"enable\": True\n",
    "     }\n",
    "    },\n",
    "      \"speech\": {\n",
    "            \"isolation\": {\n",
    "                \"enable\": True,\n",
    "                \"amount\": 70\n",
    "            },\n",
    "            \"sibilance\": {\"reduction\": {\n",
    "                    \"enable\": True,\n",
    "                    \"amount\": \"medium\"\n",
    "                }},\n",
    "            \"plosive\": {\"reduction\": {\n",
    "                    \"enable\": True,\n",
    "                    \"amount\": \"medium\"\n",
    "                }},\n",
    "            \"click\": {\"reduction\": {\n",
    "                    \"enable\": False,\n",
    "                    \"amount\": \"medium\"\n",
    "    }}}\n",
    "  }\n",
    "}"
   ]
  },
  {
   "cell_type": "code",
   "execution_count": null,
   "id": "e2700f37",
   "metadata": {
    "slideshow": {
     "slide_type": "subslide"
    }
   },
   "outputs": [],
   "source": [
    "response = requests.post(url, json=body, headers=headers)\n",
    "print(response.json())"
   ]
  },
  {
   "cell_type": "code",
   "execution_count": null,
   "id": "da18e956",
   "metadata": {
    "slideshow": {
     "slide_type": "fragment"
    }
   },
   "outputs": [],
   "source": [
    "params = {\n",
    "  \"job_id\": response.json()[\"job_id\"]\n",
    "}\n",
    "\n",
    "stat = requests.get(url, params=params, headers=headers)\n",
    "print(stat.json())"
   ]
  },
  {
   "cell_type": "markdown",
   "id": "26a0e293",
   "metadata": {
    "slideshow": {
     "slide_type": "subslide"
    }
   },
   "source": [
    "**How did it turn out?**"
   ]
  },
  {
   "cell_type": "code",
   "execution_count": null,
   "id": "2e877328",
   "metadata": {
    "slideshow": {
     "slide_type": "fragment"
    }
   },
   "outputs": [],
   "source": [
    "url = \"https://api.dolby.com/media/output\""
   ]
  },
  {
   "cell_type": "code",
   "execution_count": null,
   "id": "1823f124",
   "metadata": {
    "slideshow": {
     "slide_type": "fragment"
    }
   },
   "outputs": [],
   "source": [
    "params = {\n",
    "    \"url\": \"dlb://out/example-enhanced.wav\",\n",
    "}"
   ]
  },
  {
   "cell_type": "code",
   "execution_count": null,
   "id": "551d6a59",
   "metadata": {
    "slideshow": {
     "slide_type": "subslide"
    }
   },
   "outputs": [],
   "source": [
    "import shutil #Package for file operations\n",
    "output_path = \"white_noise_demo-enhanced.wav\"\n",
    "\n",
    "with requests.get(url, params=params, headers=headers, stream=True) as response:\n",
    "    response.raw.decode_content = True\n",
    "    print(\"Downloading from {0} into {1}\".format(response.url, output_path))\n",
    "    with open(output_path, \"wb\") as output_file:\n",
    "        shutil.copyfileobj(response.raw, output_file)"
   ]
  },
  {
   "cell_type": "markdown",
   "id": "48cb0f7c",
   "metadata": {
    "slideshow": {
     "slide_type": "subslide"
    }
   },
   "source": [
    "**Lets give it a listen**"
   ]
  },
  {
   "cell_type": "code",
   "execution_count": null,
   "id": "5e5a3b64",
   "metadata": {
    "slideshow": {
     "slide_type": "fragment"
    }
   },
   "outputs": [],
   "source": [
    "IPython.display.Audio(\"white_noise_demo-enhanced.wav\")"
   ]
  },
  {
   "cell_type": "markdown",
   "id": "3bf4e3d0",
   "metadata": {
    "slideshow": {
     "slide_type": "subslide"
    }
   },
   "source": [
    "**Original**"
   ]
  },
  {
   "cell_type": "code",
   "execution_count": null,
   "id": "4fb57527",
   "metadata": {
    "slideshow": {
     "slide_type": "fragment"
    }
   },
   "outputs": [],
   "source": [
    "IPython.display.Audio(\"white_noise_demo.wav\")"
   ]
  },
  {
   "cell_type": "markdown",
   "id": "7696acfd",
   "metadata": {
    "slideshow": {
     "slide_type": "subslide"
    }
   },
   "source": [
    "**Regions**"
   ]
  },
  {
   "cell_type": "code",
   "execution_count": null,
   "id": "cad4c5f8",
   "metadata": {
    "slideshow": {
     "slide_type": "skip"
    }
   },
   "outputs": [],
   "source": [
    "#URL changes\n",
    "url = \"https://api.dolby.com/media/enhance\"\n",
    "\n",
    "#Header stays the same\n",
    "headers = {\n",
    "  \"x-api-key\": api_key,\n",
    "  \"Content-Type\": \"application/json\",\n",
    "  \"Accept\": \"application/json\"\n",
    "}"
   ]
  },
  {
   "cell_type": "code",
   "execution_count": null,
   "id": "5a389156",
   "metadata": {
    "slideshow": {
     "slide_type": "fragment"
    }
   },
   "outputs": [],
   "source": [
    "body = {\n",
    "  \"input\" : \"dlb://in/example.wav\",\n",
    "  \"output\" : \"dlb://out/example-enhanced.wav\",\n",
    "}"
   ]
  },
  {
   "cell_type": "code",
   "execution_count": null,
   "id": "ea3e69d8",
   "metadata": {
    "slideshow": {
     "slide_type": "fragment"
    }
   },
   "outputs": [],
   "source": [
    "body = {\n",
    "  \"input\" : {\n",
    "      \"url\": \"dlb://in/example.wav\",\n",
    "      \"region\": {\n",
    "            \"start\": 0,\n",
    "            \"end\": 5}\n",
    "  },\n",
    "  \"output\" : \"dlb://out/example-enhanced-short.wav\",\n",
    "}"
   ]
  },
  {
   "cell_type": "code",
   "execution_count": null,
   "id": "66840572",
   "metadata": {
    "slideshow": {
     "slide_type": "subslide"
    }
   },
   "outputs": [],
   "source": [
    "response = requests.post(url, json=body, headers=headers)\n",
    "print(response.json())"
   ]
  },
  {
   "cell_type": "code",
   "execution_count": null,
   "id": "b6abe79e",
   "metadata": {
    "slideshow": {
     "slide_type": "subslide"
    }
   },
   "outputs": [],
   "source": [
    "url = \"https://api.dolby.com/media/output\"\n",
    "params = {\n",
    "    \"url\": \"dlb://out/example-enhanced-short.wav\",\n",
    "}\n",
    "output_path = \"white_noise_demo-enhanced-short.wav\"\n",
    "\n",
    "with requests.get(url, params=params, headers=headers, stream=True) as response:\n",
    "    response.raw.decode_content = True\n",
    "    print(\"Downloading from {0} into {1}\".format(response.url, output_path))\n",
    "    with open(output_path, \"wb\") as output_file:\n",
    "        shutil.copyfileobj(response.raw, output_file)"
   ]
  },
  {
   "cell_type": "code",
   "execution_count": null,
   "id": "1e70ed96",
   "metadata": {
    "slideshow": {
     "slide_type": "subslide"
    }
   },
   "outputs": [],
   "source": [
    "IPython.display.Audio(\"white_noise_demo-enhanced-short.wav\")"
   ]
  },
  {
   "cell_type": "markdown",
   "id": "95cffee8",
   "metadata": {
    "slideshow": {
     "slide_type": "subslide"
    }
   },
   "source": [
    "### Questions?\n",
    "\n",
    "https://docs.dolby.io/media-apis/docs/enhance-api-guide"
   ]
  },
  {
   "cell_type": "markdown",
   "id": "5affa5e4",
   "metadata": {
    "slideshow": {
     "slide_type": "slide"
    }
   },
   "source": [
    "### Diagnose (*Beta*)"
   ]
  },
  {
   "cell_type": "markdown",
   "id": "aee8a36d",
   "metadata": {
    "slideshow": {
     "slide_type": "fragment"
    }
   },
   "source": [
    "- Provides General Media Info"
   ]
  },
  {
   "cell_type": "markdown",
   "id": "af08f45e",
   "metadata": {
    "slideshow": {
     "slide_type": "fragment"
    }
   },
   "source": [
    "- Audio Quality Scores"
   ]
  },
  {
   "cell_type": "markdown",
   "id": "0ef940a9",
   "metadata": {
    "slideshow": {
     "slide_type": "fragment"
    }
   },
   "source": [
    "- Noise Score\n",
    "- Clipping\n",
    "- Loudness\n",
    "- Content Classification\n",
    "\n",
    "Diagnose is **fast**"
   ]
  },
  {
   "cell_type": "markdown",
   "id": "eb256c84",
   "metadata": {
    "slideshow": {
     "slide_type": "subslide"
    }
   },
   "source": [
    "**Let's look at some code**"
   ]
  },
  {
   "cell_type": "code",
   "execution_count": null,
   "id": "50489fe0",
   "metadata": {
    "slideshow": {
     "slide_type": "fragment"
    }
   },
   "outputs": [],
   "source": [
    "url = \"https://api.dolby.com/media/diagnose\"\n",
    "\n",
    "headers = {\n",
    "    \"x-api-key\": api_key,\n",
    "    \"Content-Type\": \"application/json\",\n",
    "    \"Accept\": \"application/json\"\n",
    "}\n",
    "\n",
    "body = {\n",
    "    \"input\"  : \"dlb://in/example.wav\",\n",
    "}\n",
    "\n",
    "response = requests.post(url, json=body, headers=headers)\n",
    "job_id  = response.json()[\"job_id\"]\n",
    "print(response.json())"
   ]
  },
  {
   "cell_type": "code",
   "execution_count": null,
   "id": "7f1dd7fc",
   "metadata": {
    "slideshow": {
     "slide_type": "subslide"
    }
   },
   "outputs": [],
   "source": [
    "url = \"https://api.dolby.com/media/diagnose\"\n",
    "headers = {\n",
    "    \"x-api-key\": api_key,\n",
    "    \"Content-Type\": \"application/json\",\n",
    "    \"Accept\": \"application/json\"\n",
    "}\n",
    "\n",
    "\n",
    "params = {\n",
    "    \"job_id\" : job_id,\n",
    "}\n",
    "\n",
    "stat = requests.get(url, params=params, headers=headers)\n",
    "print(stat.json())"
   ]
  },
  {
   "cell_type": "code",
   "execution_count": null,
   "id": "a61de760",
   "metadata": {
    "slideshow": {
     "slide_type": "subslide"
    }
   },
   "outputs": [],
   "source": [
    "stat.json()"
   ]
  },
  {
   "cell_type": "markdown",
   "id": "469a74ce",
   "metadata": {
    "slideshow": {
     "slide_type": "subslide"
    }
   },
   "source": [
    "<center><img src=\"images/quality.jpg\" alt=\"drawing\" width=\"600\"/></center>"
   ]
  },
  {
   "cell_type": "markdown",
   "id": "661b8bb7",
   "metadata": {
    "slideshow": {
     "slide_type": "subslide"
    }
   },
   "source": [
    "<center><img src=\"images/flow.jpg\" alt=\"drawing\" width=\"700\"/></center>"
   ]
  },
  {
   "cell_type": "markdown",
   "id": "461ec006",
   "metadata": {
    "cell_style": "center",
    "slideshow": {
     "slide_type": "subslide"
    }
   },
   "source": [
    "### A quick note on cURL & our API reference"
   ]
  },
  {
   "cell_type": "markdown",
   "id": "42f92455",
   "metadata": {
    "cell_style": "center",
    "slideshow": {
     "slide_type": "fragment"
    }
   },
   "source": [
    "- Designed to transfer data using various network protocols\n",
    "- Works great with REST APIs like the Dolby.io Media APIs\n",
    "- Run through the command line"
   ]
  },
  {
   "cell_type": "markdown",
   "id": "f1be514a",
   "metadata": {
    "slideshow": {
     "slide_type": "fragment"
    }
   },
   "source": [
    "**Lets check out the Docs**\n",
    "- https://docs.dolby.io/media-apis/reference/media-diagnose-post\n",
    "- https://docs.dolby.io/media-apis/reference/media-diagnose-get"
   ]
  },
  {
   "cell_type": "raw",
   "id": "f9ca2020",
   "metadata": {
    "slideshow": {
     "slide_type": "skip"
    }
   },
   "source": [
    "#Powershell POST Example\n",
    "$headers=@{}\n",
    "$headers.Add(\"Accept\", \"application/json\")\n",
    "$headers.Add(\"Content-Type\", \"application/json\")\n",
    "$headers.Add(\"x-api-key\", \"YOUR_API_KEY\")\n",
    "$response = Invoke-WebRequest -Uri 'https://api.dolby.com/media/diagnose' -Method POST -Headers $headers -ContentType 'application/json' -Body '{\"content\":{\"silence\":{\"threshold\":-60,\"duration\":3},\"type\":\"podcast\"},\"input\":\"dlb://in/example.wav\"}'\n",
    "\n",
    "#Then\n",
    "$response"
   ]
  },
  {
   "cell_type": "raw",
   "id": "54a5b40c",
   "metadata": {
    "slideshow": {
     "slide_type": "skip"
    }
   },
   "source": [
    "#Shell POST Example\n",
    "curl --request POST \\\n",
    "     --url https://api.dolby.com/media/diagnose \\\n",
    "     --header 'Accept: application/json' \\\n",
    "     --header 'Content-Type: application/json' \\\n",
    "     --header 'x-api-key: YOUR_API_KEY' \\\n",
    "     --data '\n",
    "{\n",
    "     \"input\": \"string\",\n",
    "     \"content\": {\n",
    "          \"type\": \"podcast\",\n",
    "          \"silence\": {\n",
    "               \"threshold\": -60,\n",
    "               \"duration\": 3\n",
    "          }\n",
    "     }\n",
    "}\n",
    "'"
   ]
  },
  {
   "cell_type": "markdown",
   "id": "bafdd6f2",
   "metadata": {
    "slideshow": {
     "slide_type": "subslide"
    }
   },
   "source": [
    "### Questions?\n",
    "\n",
    "https://docs.dolby.io/media-apis/docs/diagnose-api-guide"
   ]
  },
  {
   "cell_type": "markdown",
   "id": "9e624764",
   "metadata": {
    "slideshow": {
     "slide_type": "subslide"
    }
   },
   "source": [
    "## What about other languages?"
   ]
  },
  {
   "cell_type": "markdown",
   "id": "c8551754",
   "metadata": {
    "slideshow": {
     "slide_type": "subslide"
    }
   },
   "source": [
    "**JavaScript**"
   ]
  },
  {
   "cell_type": "raw",
   "id": "c9dbbd33",
   "metadata": {
    "slideshow": {
     "slide_type": "fragment"
    }
   },
   "source": [
    "const options = {\n",
    "  method: 'POST',\n",
    "  headers: {\n",
    "    Accept: 'application/json',\n",
    "    'Content-Type': 'application/json',\n",
    "    'x-api-key': 'YOUR_API_KEY'\n",
    "  },\n",
    "  body: JSON.stringify({\n",
    "    input: 'YOUR_FILE_URL',\n",
    "    output: 'YOUR_OUTPUT_URL'\n",
    "  })\n",
    "};\n",
    "\n",
    "fetch('https://api.dolby.com/media/enhance', options)\n",
    "  .then(response => response.json())\n",
    "  .then(response => console.log(response))\n",
    "  .catch(err => console.error(err));"
   ]
  },
  {
   "cell_type": "raw",
   "id": "ca4514c1",
   "metadata": {
    "slideshow": {
     "slide_type": "subslide"
    }
   },
   "source": [
    "const options = {\n",
    "  method: 'GET',\n",
    "  headers: {Accept: 'application/octet-stream', 'x-api-key': 'YOUR_API_KEY'}\n",
    "};\n",
    "\n",
    "fetch('https://api.dolby.com/media/output?url=YOUR_OUTPUT_URL', options)\n",
    "  .then(response => response.json())\n",
    "  .then(response => console.log(response))\n",
    "  .catch(err => console.error(err));"
   ]
  },
  {
   "cell_type": "markdown",
   "id": "3b0f674e",
   "metadata": {
    "slideshow": {
     "slide_type": "fragment"
    }
   },
   "source": [
    "**Keep your API keys private**\n",
    "\n",
    "https://docs.dolby.io/media-apis/docs/authentication"
   ]
  },
  {
   "cell_type": "markdown",
   "id": "0087521d",
   "metadata": {
    "slideshow": {
     "slide_type": "subslide"
    }
   },
   "source": [
    "**Kotlin**"
   ]
  },
  {
   "cell_type": "raw",
   "id": "61a293f5",
   "metadata": {
    "slideshow": {
     "slide_type": "fragment"
    }
   },
   "source": [
    "OkHttpClient client = new OkHttpClient();\n",
    "\n",
    "MediaType mediaType = MediaType.parse(\"application/json\");\n",
    "RequestBody body = RequestBody.create(mediaType, \"{\"input\\\":\\\"YOUR_FILE_URL\\\",\\\"output\\\":\\\"YOUR_OUTPUT_URL\\\"}\");\n",
    "Request request = new Request.Builder()\n",
    "  .url(\"https://api.dolby.com/media/enhance\")\n",
    "  .post(body)\n",
    "  .addHeader(\"Accept\", \"application/json\")\n",
    "  .addHeader(\"Content-Type\", \"application/json\")\n",
    "  .addHeader(\"x-api-key\", \"YOUR_API_KEY\")\n",
    "  .build();\n",
    "\n",
    "Response response = client.newCall(request).execute();"
   ]
  },
  {
   "cell_type": "raw",
   "id": "8cb0ef4c",
   "metadata": {
    "slideshow": {
     "slide_type": "subslide"
    }
   },
   "source": [
    "OkHttpClient client = new OkHttpClient();\n",
    "\n",
    "Request request = new Request.Builder()\n",
    "  .url(\"https://api.dolby.com/media/output?url=YOUR_OUTPUT_URL\")\n",
    "  .get()\n",
    "  .addHeader(\"Accept\", \"application/octet-stream\")\n",
    "  .addHeader(\"x-api-key\", \"YOUR_API_KEY\")\n",
    "  .build();\n",
    "\n",
    "Response response = client.newCall(request).execute();"
   ]
  },
  {
   "cell_type": "markdown",
   "id": "ef1e28d0",
   "metadata": {
    "slideshow": {
     "slide_type": "fragment"
    }
   },
   "source": [
    "Check out our API Reference:\n",
    "https://docs.dolby.io/media-apis/reference/media-enhance-post"
   ]
  },
  {
   "cell_type": "markdown",
   "id": "2a9123f9",
   "metadata": {
    "slideshow": {
     "slide_type": "slide"
    }
   },
   "source": [
    "### Transcoding (*Beta*)"
   ]
  },
  {
   "cell_type": "markdown",
   "id": "baf8e0f0",
   "metadata": {
    "slideshow": {
     "slide_type": "fragment"
    }
   },
   "source": [
    "- Convert media of a particular file type to another"
   ]
  },
  {
   "cell_type": "markdown",
   "id": "494b0042",
   "metadata": {
    "slideshow": {
     "slide_type": "fragment"
    }
   },
   "source": [
    "- Transizing video media to different resolutions"
   ]
  },
  {
   "cell_type": "markdown",
   "id": "91765195",
   "metadata": {
    "slideshow": {
     "slide_type": "fragment"
    }
   },
   "source": [
    "- Transrating audio media to different sample rates or bit rates"
   ]
  },
  {
   "cell_type": "markdown",
   "id": "79bbbd33",
   "metadata": {
    "slideshow": {
     "slide_type": "fragment"
    }
   },
   "source": [
    "The goal of Transcoding is to convert from one media format to another, from one media format to many variations, or in generating streaming media such as HLS or DASH."
   ]
  },
  {
   "cell_type": "markdown",
   "id": "1a216194",
   "metadata": {
    "slideshow": {
     "slide_type": "subslide"
    }
   },
   "source": [
    "<center><img src=\"images/formats.png\" alt=\"drawing\" width=\"800\"/></center>"
   ]
  },
  {
   "cell_type": "markdown",
   "id": "20d5a12c",
   "metadata": {
    "slideshow": {
     "slide_type": "fragment"
    }
   },
   "source": [
    "- Containers host video and audio compression codecs.\n",
    "- HLS: HTTP Live Streaming\n",
    "- DASH: Dynamic Adaptive Streaming over HTTP"
   ]
  },
  {
   "cell_type": "markdown",
   "id": "a065598a",
   "metadata": {
    "slideshow": {
     "slide_type": "subslide"
    }
   },
   "source": [
    "**Lets check out some code**"
   ]
  },
  {
   "cell_type": "code",
   "execution_count": null,
   "id": "5cd56514",
   "metadata": {
    "slideshow": {
     "slide_type": "fragment"
    }
   },
   "outputs": [],
   "source": [
    "url = \"https://api.dolby.com/media/transcode\"\n",
    "\n",
    "headers = {\n",
    "    \"x-api-key\": api_key,\n",
    "    \"Content-Type\": \"application/json\",\n",
    "    \"Accept\": \"application/json\",\n",
    "}\n"
   ]
  },
  {
   "cell_type": "code",
   "execution_count": null,
   "id": "c0077169",
   "metadata": {
    "slideshow": {
     "slide_type": "subslide"
    }
   },
   "outputs": [],
   "source": [
    "body = {\n",
    "    \"inputs\": [{ \"source\" : \"https://dolbyio.s3-us-west-1.amazonaws.com/public/shelby/indoors.original.mp4\"}],\n",
    "    \"outputs\": [\n",
    "        {\n",
    "            \"id\" : \"my_mp4\",\n",
    "            \"destination\" : \"dlb://out/airplane-transcoded.wav\",\n",
    "            \"kind\" : \"wav\"\n",
    "        }\n",
    "    ]\n",
    "}"
   ]
  },
  {
   "cell_type": "code",
   "execution_count": null,
   "id": "6de22fde",
   "metadata": {
    "slideshow": {
     "slide_type": "fragment"
    }
   },
   "outputs": [],
   "source": [
    "response = requests.post(url, json=body, headers=headers)\n",
    "print(response.json())"
   ]
  },
  {
   "cell_type": "code",
   "execution_count": null,
   "id": "8951519d",
   "metadata": {
    "slideshow": {
     "slide_type": "subslide"
    }
   },
   "outputs": [],
   "source": [
    "params = {\n",
    "    \"job_id\": response.json()[\"job_id\"]\n",
    "}\n",
    "stat = requests.get(url, params=params, headers=headers)\n",
    "print(stat.json())"
   ]
  },
  {
   "cell_type": "code",
   "execution_count": null,
   "id": "1820b1e5",
   "metadata": {
    "slideshow": {
     "slide_type": "subslide"
    }
   },
   "outputs": [],
   "source": [
    "url = \"https://api.dolby.com/media/output\"\n",
    "output_path = \"airplane-example.wav\"\n",
    "params = {\n",
    "    \"url\": \"dlb://out/airplane-transcoded.wav\",\n",
    "}\n",
    "\n",
    "with requests.get(url, params=params, headers=headers, stream=True) as response:\n",
    "    response.raise_for_status()\n",
    "    response.raw.decode_content = True\n",
    "    print(\"Downloading from {0} into {1}\".format(response.url, output_path))\n",
    "    with open(output_path, \"wb\") as output_file:\n",
    "        shutil.copyfileobj(response.raw, output_file)"
   ]
  },
  {
   "cell_type": "code",
   "execution_count": null,
   "id": "6de05561",
   "metadata": {
    "slideshow": {
     "slide_type": "subslide"
    }
   },
   "outputs": [],
   "source": [
    "!ls"
   ]
  },
  {
   "cell_type": "markdown",
   "id": "abeca1d5",
   "metadata": {
    "slideshow": {
     "slide_type": "subslide"
    }
   },
   "source": [
    "### Questions?\n",
    "\n",
    "https://docs.dolby.io/media-apis/docs/transcode-api-guide"
   ]
  },
  {
   "cell_type": "markdown",
   "id": "153f03bf",
   "metadata": {
    "slideshow": {
     "slide_type": "slide"
    }
   },
   "source": [
    "### More APIs?"
   ]
  },
  {
   "cell_type": "markdown",
   "id": "c13b895d",
   "metadata": {
    "slideshow": {
     "slide_type": "subslide"
    }
   },
   "source": [
    "**Analyze (*Beta*) and Analyze Speech (*Beta*)**"
   ]
  },
  {
   "cell_type": "markdown",
   "id": "eece33b1",
   "metadata": {
    "slideshow": {
     "slide_type": "fragment"
    }
   },
   "source": [
    "- Bigger version of Diagnose"
   ]
  },
  {
   "cell_type": "markdown",
   "id": "4c1e5c9d",
   "metadata": {
    "slideshow": {
     "slide_type": "fragment"
    }
   },
   "source": [
    "- Breaks out many segments of the audio for quality scores"
   ]
  },
  {
   "cell_type": "markdown",
   "id": "7aa964ab",
   "metadata": {
    "slideshow": {
     "slide_type": "fragment"
    }
   },
   "source": [
    "- Speaker diarization"
   ]
  },
  {
   "cell_type": "markdown",
   "id": "e481291e",
   "metadata": {
    "slideshow": {
     "slide_type": "fragment"
    }
   },
   "source": [
    "- Micro level audio defects and insights"
   ]
  },
  {
   "cell_type": "markdown",
   "id": "1db007b7",
   "metadata": {
    "slideshow": {
     "slide_type": "fragment"
    }
   },
   "source": [
    "**We'll explore Analyze and Analyze Speech in another workshop so stay tuned and let us know if you are interested.**\n",
    "\n",
    "Explore more here: https://docs.dolby.io/media-apis/docs/analyze-api-guide"
   ]
  },
  {
   "cell_type": "markdown",
   "id": "cd35720d",
   "metadata": {
    "slideshow": {
     "slide_type": "subslide"
    }
   },
   "source": [
    "**Music Mastering (*available at request, soon-to-be GA*)**"
   ]
  },
  {
   "cell_type": "markdown",
   "id": "9875168e",
   "metadata": {
    "slideshow": {
     "slide_type": "fragment"
    }
   },
   "source": [
    "- Like Enhance but more music specific"
   ]
  },
  {
   "cell_type": "markdown",
   "id": "93222a71",
   "metadata": {
    "slideshow": {
     "slide_type": "fragment"
    }
   },
   "source": [
    "- Pick between various music styles"
   ]
  },
  {
   "cell_type": "markdown",
   "id": "2cabad16",
   "metadata": {
    "slideshow": {
     "slide_type": "fragment"
    }
   },
   "source": [
    "- Professional-sounding audio masters that keep creative intent intact"
   ]
  },
  {
   "cell_type": "markdown",
   "id": "b33750c5",
   "metadata": {
    "slideshow": {
     "slide_type": "fragment"
    }
   },
   "source": [
    "**If you are interested in Music Mastering reach out to the team!**\n",
    "\n",
    "Explore more here: https://dolby.io/products/music-mastering/"
   ]
  },
  {
   "cell_type": "markdown",
   "id": "d35a4813",
   "metadata": {
    "slideshow": {
     "slide_type": "slide"
    }
   },
   "source": [
    "**To Recap...**"
   ]
  },
  {
   "cell_type": "markdown",
   "id": "f1ece788",
   "metadata": {
    "slideshow": {
     "slide_type": "fragment"
    }
   },
   "source": [
    "- Enhance API\n",
    "    - Noise reduction\n",
    "    - Speaker isolation\n",
    "    - Explored how regions work"
   ]
  },
  {
   "cell_type": "markdown",
   "id": "a6114dad",
   "metadata": {
    "slideshow": {
     "slide_type": "subslide"
    }
   },
   "source": [
    "- Diagnose API\n",
    "    - Quality scores\n",
    "    - Learning more about your media\n",
    "    - Played with cURL and learnt about some other languages"
   ]
  },
  {
   "cell_type": "markdown",
   "id": "ee8b7da0",
   "metadata": {
    "slideshow": {
     "slide_type": "subslide"
    }
   },
   "source": [
    "- Transcoding API\n",
    "    - Media streams\n",
    "    - Converting to different codecs"
   ]
  },
  {
   "cell_type": "markdown",
   "id": "f121b2df",
   "metadata": {
    "slideshow": {
     "slide_type": "subslide"
    }
   },
   "source": [
    "- Breifly touched on Analyze and Music Mastering APIs"
   ]
  },
  {
   "cell_type": "markdown",
   "id": "42df539a",
   "metadata": {
    "cell_style": "split",
    "slideshow": {
     "slide_type": "subslide"
    }
   },
   "source": [
    "**Thank you for attending the Media API segment of Dolby.io Developer Days!**\n",
    "\n",
    "If you have questions feel free to reach out to me at:\n",
    "*@BradenRiggs1* or */in/briggs599*"
   ]
  },
  {
   "cell_type": "markdown",
   "id": "9142d623",
   "metadata": {
    "cell_style": "split",
    "slideshow": {
     "slide_type": "fragment"
    }
   },
   "source": [
    "Complete this survey to enter our raffle for some Dolby.io t-shirts: https://dolbyioprograms.typeform.com/to/S4H65blD\n",
    "\n",
    "**Your Feedback is Appreciated**"
   ]
  },
  {
   "cell_type": "code",
   "execution_count": null,
   "id": "662159e8",
   "metadata": {
    "slideshow": {
     "slide_type": "skip"
    }
   },
   "outputs": [],
   "source": []
  }
 ],
 "metadata": {
  "celltoolbar": "Slideshow",
  "kernelspec": {
   "display_name": "Python 3 (ipykernel)",
   "language": "python",
   "name": "python3"
  },
  "language_info": {
   "codemirror_mode": {
    "name": "ipython",
    "version": 3
   },
   "file_extension": ".py",
   "mimetype": "text/x-python",
   "name": "python",
   "nbconvert_exporter": "python",
   "pygments_lexer": "ipython3",
   "version": "3.8.10"
  },
  "rise": {
   "chalkboard": {
    "color": [
     "rgb(250, 0, 0)",
     "rgb(250, 0, 0)"
    ]
   },
   "enable_chalkboard": true
  },
  "varInspector": {
   "cols": {
    "lenName": 16,
    "lenType": 16,
    "lenVar": 40
   },
   "kernels_config": {
    "python": {
     "delete_cmd_postfix": "",
     "delete_cmd_prefix": "del ",
     "library": "var_list.py",
     "varRefreshCmd": "print(var_dic_list())"
    },
    "r": {
     "delete_cmd_postfix": ") ",
     "delete_cmd_prefix": "rm(",
     "library": "var_list.r",
     "varRefreshCmd": "cat(var_dic_list()) "
    }
   },
   "types_to_exclude": [
    "module",
    "function",
    "builtin_function_or_method",
    "instance",
    "_Feature"
   ],
   "window_display": false
  }
 },
 "nbformat": 4,
 "nbformat_minor": 5
}
