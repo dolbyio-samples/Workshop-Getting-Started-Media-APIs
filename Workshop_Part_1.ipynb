{
 "cells": [
  {
   "cell_type": "markdown",
   "metadata": {
    "id": "9KZLfOL-0tCy"
   },
   "source": [
    "# **<div align=\"center\"> Dolby.io Developer Days Media APIs 101 - Getting Started </div>**\n",
    "\n",
    "### **<div align=\"center\"> Notebook #1: Getting Started</div>**\n"
   ]
  },
  {
   "cell_type": "markdown",
   "metadata": {},
   "source": [
    "### Starting with a Raw Audio File\n"
   ]
  },
  {
   "cell_type": "code",
   "execution_count": 3,
   "metadata": {},
   "outputs": [],
   "source": [
    "import IPython # Helper library to play audio files in Python natively.\n",
    "\n",
    "# Set this link to any publically accessible media file you would like!\n",
    "original_audio_file = \"https://dolbyio.s3-us-west-1.amazonaws.com/public/shelby/airplane.original.mp4\"\n",
    "\n",
    "IPython.display.Audio(original_audio_file) # Display the audio embedded within python"
   ]
  },
  {
   "cell_type": "markdown",
   "metadata": {
    "id": "zXV8NLJH1EIg"
   },
   "source": [
    "### **Step #1**\n",
    "\n",
    "- Go to http://dashboard.dolby.io/signup/ to sign up for a Dolby.io account.\n",
    "- At the bottom of the \"Applications\" widget on the dashboard, click \"_my first app_\"\n",
    "- Scroll down to the box labeled **'Media APIs'**.\n",
    "- Copy the key text under \"API Key:\" and replace the string below, then run the cell.\n",
    "- Also enter in your name to customize the output URL later.\n",
    "- _Click the play button._\n",
    "  ![applications](./images/applications.png)\n"
   ]
  },
  {
   "cell_type": "code",
   "execution_count": null,
   "metadata": {
    "colab": {
     "base_uri": "https://localhost:8080/"
    },
    "id": "bgSPCctL01Ze",
    "outputId": "ec141583-1b8c-455c-af34-1880e3847d28"
   },
   "outputs": [],
   "source": [
    "# Enter your Dolby.io Media API Key here.\n",
    "api_key = \"<YOUR_API_KEY_HERE>\"\n",
    "# Enter your name here to customize the output URL later.\n",
    "name = \"<YOUR_NAME_HERE>\"\n",
    "\n",
    "print(\"API Key and Name set!\")"
   ]
  },
  {
   "cell_type": "markdown",
   "metadata": {
    "id": "WUDHzge-Hqen"
   },
   "source": [
    "Great, now we have two key variables set:\n",
    "\n",
    "1. The link to the original media file we want to process.\n",
    "2. Our API key so we can properly call the REST API endpoints.\n",
    "\n",
    "As well as your name, just so we can differentiate output later on.\n"
   ]
  },
  {
   "cell_type": "markdown",
   "metadata": {
    "id": "1uqPPpMp5R3p"
   },
   "source": [
    "### **Step #2**\n",
    "> Note: all of the following code is adapted from the Enhance quickstart found here: https://docs.dolby.io/media-apis/docs/quick-start-to-enhancing-media\n",
    "\n",
    "- Run the cells below to start the enhance job, this should output a JSON response with only a `job_id` in the body if no errors occur.\n"
   ]
  },
  {
   "cell_type": "code",
   "execution_count": null,
   "metadata": {},
   "outputs": [],
   "source": [
    "import requests # Python library to make HTTP requests\n",
    "\n",
    "output_url = f\"dlb://out/workshop-{name}.mp4\" # Setting the output URL to have a different location based on your name!\n",
    "\n",
    "# Building the body of the request\n",
    "body = {\n",
    "  \"input\" : original_audio_file,\n",
    "  \"output\" : output_url,\n",
    "}\n",
    "\n",
    "# Building the headers and url of the request\n",
    "url = \"https://api.dolby.com/media/enhance\"\n",
    "headers = {\n",
    "  \"x-api-key\": api_key,\n",
    "  \"Content-Type\": \"application/json\",\n",
    "  \"Accept\": \"application/json\"\n",
    "}\n",
    "\n",
    "# Call the API request!\n",
    "response = requests.post(url, json=body, headers=headers)\n",
    "response.raise_for_status()\n",
    "print(response.json()) # Prints out the output of the request"
   ]
  },
  {
   "cell_type": "markdown",
   "metadata": {
    "id": "0EAIZFek6Dv2"
   },
   "source": [
    "### **Step #3**\n",
    "\n",
    "- Now that we have created a job, we should check its status.\n",
    "- Run the cell below to check the status, this file is small so it should take only a couple of seconds, when it is complete, it should say successful!\n"
   ]
  },
  {
   "cell_type": "code",
   "execution_count": null,
   "metadata": {
    "id": "yGS1xkn-6WkM"
   },
   "outputs": [],
   "source": [
    "url = \"https://api.dolby.com/media/enhance\"\n",
    "headers = {\n",
    "  \"x-api-key\": api_key,\n",
    "  \"Content-Type\": \"application/json\",\n",
    "  \"Accept\": \"application/json\"\n",
    "}\n",
    "\n",
    "params = {\n",
    "  \"job_id\": response.json()[\"job_id\"]\n",
    "}\n",
    "\n",
    "response = requests.get(url, params=params, headers=headers)\n",
    "response.raise_for_status()\n",
    "print(response.json())"
   ]
  },
  {
   "cell_type": "markdown",
   "metadata": {},
   "source": [
    "This should look like the following when done:\n",
    "\n",
    "```json\n",
    "{'path': '/media/enhance', 'status': 'Success', 'progress': 100, 'api_version': 'v1.1.2', 'result': {}}\n",
    "```"
   ]
  },
  {
   "cell_type": "markdown",
   "metadata": {
    "id": "dIqlEBZY6eJE"
   },
   "source": [
    "### **Step #4**\n",
    "\n",
    "- Now we want to download the file!\n",
    "- We can do this with another request.\n"
   ]
  },
  {
   "cell_type": "code",
   "execution_count": null,
   "metadata": {
    "id": "H3TFNT6wFFHs"
   },
   "outputs": [],
   "source": [
    "import shutil\n",
    "\n",
    "# The name of the file that will be downloaded locally!\n",
    "output_path = f\"workshop-{name}.mp4\"\n",
    "\n",
    "url = \"https://api.dolby.com/media/output\"\n",
    "headers = {\n",
    "    \"x-api-key\": api_key,\n",
    "    \"Content-Type\": \"application/json\",\n",
    "    \"Accept\": \"application/json\",\n",
    "}\n",
    "\n",
    "args = {\n",
    "    \"url\": output_url\n",
    "}\n",
    "\n",
    "# Take the response and download it locally\n",
    "with requests.get(url, params=args, headers=headers, stream=True) as response:\n",
    "    response.raise_for_status()\n",
    "    response.raw.decode_content = True\n",
    "    print(\"Downloading from {0} into {1}\".format(response.url, output_path))\n",
    "    with open(output_path, \"wb\") as output_file:\n",
    "        shutil.copyfileobj(response.raw, output_file)"
   ]
  },
  {
   "cell_type": "markdown",
   "metadata": {},
   "source": [
    "Now that the file is downloaded lets give it a listen. Does it sound better?\n"
   ]
  },
  {
   "cell_type": "code",
   "execution_count": null,
   "metadata": {},
   "outputs": [],
   "source": [
    "IPython.display.Audio(output_path)"
   ]
  },
  {
   "cell_type": "markdown",
   "metadata": {
    "id": "5xusdkoLFJId"
   },
   "source": [
    "### **Congratulations you made your first call with the Dolby.io Enhance API!**\n",
    "\n",
    "We can now move onto Workshop Part 2 on the left sidebar!\n",
    "\n",
    "![notebook2](./images/notebook2.png)"
   ]
  }
 ],
 "metadata": {
  "colab": {
   "collapsed_sections": [],
   "name": "Notebook_1.ipynb",
   "provenance": []
  },
  "kernelspec": {
   "display_name": "Python 3 (ipykernel)",
   "language": "python",
   "name": "python3"
  },
  "language_info": {
   "codemirror_mode": {
    "name": "ipython",
    "version": 3
   },
   "file_extension": ".py",
   "mimetype": "text/x-python",
   "name": "python",
   "nbconvert_exporter": "python",
   "pygments_lexer": "ipython3",
   "version": "3.9.10"
  },
  "varInspector": {
   "cols": {
    "lenName": 16,
    "lenType": 16,
    "lenVar": 40
   },
   "kernels_config": {
    "python": {
     "delete_cmd_postfix": "",
     "delete_cmd_prefix": "del ",
     "library": "var_list.py",
     "varRefreshCmd": "print(var_dic_list())"
    },
    "r": {
     "delete_cmd_postfix": ") ",
     "delete_cmd_prefix": "rm(",
     "library": "var_list.r",
     "varRefreshCmd": "cat(var_dic_list()) "
    }
   },
   "types_to_exclude": [
    "module",
    "function",
    "builtin_function_or_method",
    "instance",
    "_Feature"
   ],
   "window_display": false
  }
 },
 "nbformat": 4,
 "nbformat_minor": 1
}
