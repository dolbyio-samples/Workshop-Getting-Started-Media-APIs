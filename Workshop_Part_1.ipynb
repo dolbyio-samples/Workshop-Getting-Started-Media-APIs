{
 "cells": [
  {
   "cell_type": "markdown",
   "metadata": {
    "id": "9KZLfOL-0tCy"
   },
   "source": [
    "# **<div align=\"center\"> Dolby.io Developer Days Media APIs 101 - Getting Started </div>**\n",
    "### **<div align=\"center\"> Notebook #1: Getting Started</div>**"
   ]
  },
  {
   "cell_type": "markdown",
   "metadata": {},
   "source": [
    "### The Problem"
   ]
  },
  {
   "cell_type": "code",
   "execution_count": null,
   "metadata": {},
   "outputs": [],
   "source": [
    "target_audio_file = \"https://dashboard.dolby.io/static/CleanCutNoise540-debc1025d9e3db58dbc2e06a75931bf4.mp4\""
   ]
  },
  {
   "cell_type": "code",
   "execution_count": null,
   "metadata": {},
   "outputs": [],
   "source": [
    "import IPython\n",
    "IPython.display.Audio(target_audio_file)"
   ]
  },
  {
   "cell_type": "markdown",
   "metadata": {
    "id": "zXV8NLJH1EIg"
   },
   "source": [
    "### **Step #1**\n",
    "- Go to http://dashboard.dolby.io/signup/ to sign up for a Dolby.io account.\n",
    "- At the bottom of the \"Applications\" widget on the dashboard, click \"*my first app*\"\n",
    "- Scroll down to the box labeled 'Media APIs\".\n",
    "- Copy the key text under \"API Key:\" and replace the string below, then run the cell. *Click the play button.*"
   ]
  },
  {
   "cell_type": "code",
   "execution_count": null,
   "metadata": {
    "colab": {
     "base_uri": "https://localhost:8080/"
    },
    "id": "bgSPCctL01Ze",
    "outputId": "ec141583-1b8c-455c-af34-1880e3847d28"
   },
   "outputs": [],
   "source": [
    "#!git clone https://github.com/dolbyio-samples/workshop-media-apis-getting-started\n",
    "#%cd workshop-media-apis-getting-started\n",
    "\n",
    "dolbyio_mapi_key = \"YOUR_API_KEY_HERE\""
   ]
  },
  {
   "cell_type": "markdown",
   "metadata": {
    "id": "WUDHzge-Hqen"
   },
   "source": [
    "Great, running the code above has accomplished two things:\n",
    "1. We defined our Media API Key, which is required for using the Media APIs.\n",
    "2. We've cloned the rest of the GitHub which includes everything we'll need for the workshop 🥳."
   ]
  },
  {
   "cell_type": "markdown",
   "metadata": {
    "id": "1uqPPpMp5R3p"
   },
   "source": [
    "### **Step #2**\n",
    "- Run the cells below to start the enhance job, this should take a few minute to complete. "
   ]
  },
  {
   "cell_type": "code",
   "execution_count": null,
   "metadata": {},
   "outputs": [],
   "source": [
    "import enhance"
   ]
  },
  {
   "cell_type": "code",
   "execution_count": null,
   "metadata": {
    "colab": {
     "base_uri": "https://localhost:8080/"
    },
    "id": "OOLhPjHK5ygz",
    "outputId": "472d957e-4e29-47bc-f88f-f65d5f77c7ca"
   },
   "outputs": [],
   "source": [
    "out_file, job_id = enhance.start_job(dolbyio_mapi_key, target_audio_file)"
   ]
  },
  {
   "cell_type": "code",
   "execution_count": null,
   "metadata": {},
   "outputs": [],
   "source": [
    "enhance.check_job(dolbyio_mapi_key, job_id)"
   ]
  },
  {
   "cell_type": "markdown",
   "metadata": {
    "id": "0EAIZFek6Dv2"
   },
   "source": [
    "### **Step #3**\n",
    "- Once the job above has completed, we can redownload the file to give it a listen.\n",
    "- Run the cell below to download our file."
   ]
  },
  {
   "cell_type": "code",
   "execution_count": null,
   "metadata": {
    "id": "yGS1xkn-6WkM"
   },
   "outputs": [],
   "source": [
    "download_file = enhance.download_file(dolbyio_mapi_key, out_file)"
   ]
  },
  {
   "cell_type": "markdown",
   "metadata": {
    "id": "dIqlEBZY6eJE"
   },
   "source": [
    "### **Step #4**\n",
    "- Now that the file is downloaded give test_1-enhanced.wav a listen. Does it sound better?\n"
   ]
  },
  {
   "cell_type": "code",
   "execution_count": null,
   "metadata": {
    "id": "H3TFNT6wFFHs"
   },
   "outputs": [],
   "source": [
    "IPython.display.Audio(download_file)"
   ]
  },
  {
   "cell_type": "markdown",
   "metadata": {
    "id": "5xusdkoLFJId"
   },
   "source": [
    "### **<div>Congratulations you made your first call with the Dolby.io Enhance API!</div>**\n",
    "\n",
    "Click the \"Open in Colab\" button to continue to Workshop Part #2\n",
    "\n",
    "<a href=\"https://colab.research.google.com/github/dolbyio-samples/workshop-media-apis-getting-started/blob/main/Workshop_Part_2.ipynb\" target=\"_parent\\\"><img src=\"https://colab.research.google.com/assets/colab-badge.svg\" alt=\"Click me to open In Colab\"/></a>"
   ]
  }
 ],
 "metadata": {
  "colab": {
   "collapsed_sections": [],
   "name": "Notebook_1.ipynb",
   "provenance": []
  },
  "kernelspec": {
   "display_name": "Python 3 (ipykernel)",
   "language": "python",
   "name": "python3"
  },
  "language_info": {
   "codemirror_mode": {
    "name": "ipython",
    "version": 3
   },
   "file_extension": ".py",
   "mimetype": "text/x-python",
   "name": "python",
   "nbconvert_exporter": "python",
   "pygments_lexer": "ipython3",
   "version": "3.8.10"
  },
  "varInspector": {
   "cols": {
    "lenName": 16,
    "lenType": 16,
    "lenVar": 40
   },
   "kernels_config": {
    "python": {
     "delete_cmd_postfix": "",
     "delete_cmd_prefix": "del ",
     "library": "var_list.py",
     "varRefreshCmd": "print(var_dic_list())"
    },
    "r": {
     "delete_cmd_postfix": ") ",
     "delete_cmd_prefix": "rm(",
     "library": "var_list.r",
     "varRefreshCmd": "cat(var_dic_list()) "
    }
   },
   "types_to_exclude": [
    "module",
    "function",
    "builtin_function_or_method",
    "instance",
    "_Feature"
   ],
   "window_display": false
  }
 },
 "nbformat": 4,
 "nbformat_minor": 1
}
